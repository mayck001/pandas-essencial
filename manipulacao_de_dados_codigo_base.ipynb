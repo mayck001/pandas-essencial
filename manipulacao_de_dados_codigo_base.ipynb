{
  "cells": [
    {
      "cell_type": "markdown",
      "metadata": {
        "id": "view-in-github",
        "colab_type": "text"
      },
      "source": [
        "<a href=\"https://colab.research.google.com/github/mayck001/pandas-essencial/blob/main/manipulacao_de_dados_codigo_base.ipynb\" target=\"_parent\"><img src=\"https://colab.research.google.com/assets/colab-badge.svg\" alt=\"Open In Colab\"/></a>"
      ]
    },
    {
      "cell_type": "markdown",
      "id": "changing-combine",
      "metadata": {
        "id": "changing-combine"
      },
      "source": [
        "## **Pandas Essencial**\n",
        "**Prof. Dr. Samuel Martins (@hisamuka @xavecoding)** <br/>\n",
        "xavecoding: https://youtube.com/c/xavecoding <br/>\n",
        "\n",
        "Neste tutorial, vamos aprender o essencial da biblioteca _Pandas_ para manipulação de dados.<br/><br/>\n",
        "\n",
        "<a rel=\"license\" href=\"http://creativecommons.org/licenses/by-nc-sa/4.0/\"><img alt=\"Creative Commons License\" style=\"border-width:0\" src=\"https://i.creativecommons.org/l/by-nc-sa/4.0/88x31.png\" /></a><br />This work is licensed under a <a rel=\"license\" href=\"http://creativecommons.org/licenses/by-nc-sa/4.0/\">Creative Commons Attribution-NonCommercial-ShareAlike 4.0 International License</a>."
      ]
    },
    {
      "cell_type": "code",
      "source": [
        "#conecta no google drive\n",
        "\n",
        "from google.colab import drive\n",
        "drive.mount('/content/drive')"
      ],
      "metadata": {
        "id": "3fKHi-uvlxpZ",
        "outputId": "19b840f0-9905-4e7c-a06e-48d973b3598c",
        "colab": {
          "base_uri": "https://localhost:8080/"
        }
      },
      "id": "3fKHi-uvlxpZ",
      "execution_count": 4,
      "outputs": [
        {
          "output_type": "stream",
          "name": "stdout",
          "text": [
            "Mounted at /content/drive\n"
          ]
        }
      ]
    },
    {
      "cell_type": "markdown",
      "id": "innovative-honolulu",
      "metadata": {
        "id": "innovative-honolulu"
      },
      "source": [
        "### Pacotes usados neste Notebook"
      ]
    },
    {
      "cell_type": "code",
      "source": [
        "from google.colab import drive\n",
        "drive.mount('/content/drive')"
      ],
      "metadata": {
        "id": "wRhW7RhAmdHV",
        "outputId": "ffa95050-c633-4693-c84d-f7a5469c6a79",
        "colab": {
          "base_uri": "https://localhost:8080/"
        }
      },
      "id": "wRhW7RhAmdHV",
      "execution_count": 5,
      "outputs": [
        {
          "output_type": "stream",
          "name": "stdout",
          "text": [
            "Drive already mounted at /content/drive; to attempt to forcibly remount, call drive.mount(\"/content/drive\", force_remount=True).\n"
          ]
        }
      ]
    },
    {
      "cell_type": "code",
      "source": [
        ""
      ],
      "metadata": {
        "id": "530RExienV_N"
      },
      "id": "530RExienV_N",
      "execution_count": null,
      "outputs": []
    },
    {
      "cell_type": "code",
      "execution_count": 39,
      "id": "backed-twenty",
      "metadata": {
        "id": "backed-twenty"
      },
      "outputs": [],
      "source": [
        "# pacotes usados neste notebook\n",
        "import pandas as pd\n",
        "import os as os"
      ]
    },
    {
      "cell_type": "markdown",
      "id": "tracked-shakespeare",
      "metadata": {
        "id": "tracked-shakespeare"
      },
      "source": [
        "<h1>Manipulação de Dados com Pandas</h1><hr/>"
      ]
    },
    {
      "cell_type": "markdown",
      "id": "federal-vinyl",
      "metadata": {
        "id": "federal-vinyl"
      },
      "source": [
        "<h2>1. Manipulação Básica de Datasets</h2>\n",
        "<hr/>"
      ]
    },
    {
      "cell_type": "markdown",
      "id": "optimum-season",
      "metadata": {
        "id": "optimum-season"
      },
      "source": [
        "**Dataset**: Gas Prices in Brazil: https://www.kaggle.com/matheusfreitag/gas-prices-in-brazil <br/>\n",
        "\n",
        "Este dataset contém os **registros dos preços médios semanais dos combustíveis do Brasil entre os anos de 2004 e 2019**. <br/>\n",
        "Cada *amostra (registro/linha)* consiste em um registro de preço aferido para um dado tipo de combustível em uma dada localidade do Brasil. <br/>\n",
        "Alguns dos principais *atributos* (colunas) do dataset são: 'ESTADO', 'PRODUTO', 'NÚMERO DE POSTOS PESQUISADOS', 'PREÇO MÉDIO REVENDA'.\n",
        "\n",
        "\n",
        "\\* O arquivo disponibilizado no Kaggle está no formato *tsv*. Embora o _pandas_ consiga abrí-lo normalmente, convertemos tal arquivo para o formato *CSV*, que é um dos formatos mais utilizados, e mudamos seu separado para ';' apenas para mostrar algumas opções da função de carregamento."
      ]
    },
    {
      "cell_type": "markdown",
      "id": "aggregate-provision",
      "metadata": {
        "id": "aggregate-provision"
      },
      "source": [
        "### 1.1. Importando o Dataset\n",
        "Para carregar um dataset no formato csv, basta utilizar a função `read_csv` do pandas. Por padrão, ela considera _','_ como separador."
      ]
    },
    {
      "cell_type": "code",
      "source": [
        "#lista o diretorio\n",
        "\n",
        "os.listdir('/content/drive/MyDrive/Colab Notebooks/pandas-essencial-main/datasets/')"
      ],
      "metadata": {
        "id": "NhkbiAHZobHn"
      },
      "id": "NhkbiAHZobHn",
      "execution_count": null,
      "outputs": []
    },
    {
      "cell_type": "code",
      "execution_count": 35,
      "id": "medieval-strain",
      "metadata": {
        "id": "medieval-strain"
      },
      "outputs": [],
      "source": [
        "#carregando dataset\n",
        "\n",
        "data = pd.read_csv('/content/drive/MyDrive/Colab Notebooks/pandas-essencial-main/datasets/GasPricesinBrazil_2004-2019.csv')"
      ]
    },
    {
      "cell_type": "code",
      "source": [
        "data"
      ],
      "metadata": {
        "id": "1mXfTXEDsEGX",
        "outputId": "2119fc5e-e548-40f4-e416-56f4e34ec12f",
        "colab": {
          "base_uri": "https://localhost:8080/",
          "height": 485
        }
      },
      "id": "1mXfTXEDsEGX",
      "execution_count": 36,
      "outputs": [
        {
          "output_type": "execute_result",
          "data": {
            "text/plain": [
              "       Unnamed: 0;DATA INICIAL;DATA FINAL;REGIÃO;ESTADO;PRODUTO;NÚMERO DE POSTOS PESQUISADOS;UNIDADE DE MEDIDA;PREÇO MÉDIO REVENDA;DESVIO PADRÃO REVENDA;PREÇO MÍNIMO REVENDA;PREÇO MÁXIMO REVENDA;MARGEM MÉDIA REVENDA;COEF DE VARIAÇÃO REVENDA;PREÇO MÉDIO DISTRIBUIÇÃO;DESVIO PADRÃO DISTRIBUIÇÃO;PREÇO MÍNIMO DISTRIBUIÇÃO;PREÇO MÁXIMO DISTRIBUIÇÃO;COEF DE VARIAÇÃO DISTRIBUIÇÃO;MÊS;ANO\n",
              "0       0;2004-05-09;2004-05-15;CENTRO OESTE;DISTRITO ...                                                                                                                                                                                                                                                                                                                                     \n",
              "1       1;2004-05-09;2004-05-15;CENTRO OESTE;GOIAS;ETA...                                                                                                                                                                                                                                                                                                                                     \n",
              "2       2;2004-05-09;2004-05-15;CENTRO OESTE;MATO GROS...                                                                                                                                                                                                                                                                                                                                     \n",
              "3       3;2004-05-09;2004-05-15;CENTRO OESTE;MATO GROS...                                                                                                                                                                                                                                                                                                                                     \n",
              "4       4;2004-05-09;2004-05-15;NORDESTE;ALAGOAS;ETANO...                                                                                                                                                                                                                                                                                                                                     \n",
              "...                                                   ...                                                                                                                                                                                                                                                                                                                                     \n",
              "106818  106818;2019-06-23;2019-06-29;NORDESTE;RIO GRAN...                                                                                                                                                                                                                                                                                                                                     \n",
              "106819  106819;2019-06-23;2019-06-29;SUL;RIO GRANDE DO...                                                                                                                                                                                                                                                                                                                                     \n",
              "106820  106820;2019-06-23;2019-06-29;SUL;SANTA CATARIN...                                                                                                                                                                                                                                                                                                                                     \n",
              "106821  106821;2019-06-23;2019-06-29;SUDESTE;SAO PAULO...                                                                                                                                                                                                                                                                                                                                     \n",
              "106822  106822;2019-06-23;2019-06-29;NORDESTE;SERGIPE;...                                                                                                                                                                                                                                                                                                                                     \n",
              "\n",
              "[106823 rows x 1 columns]"
            ],
            "text/html": [
              "\n",
              "  <div id=\"df-12d15663-76ad-498e-b70b-5d80e7df9b6a\">\n",
              "    <div class=\"colab-df-container\">\n",
              "      <div>\n",
              "<style scoped>\n",
              "    .dataframe tbody tr th:only-of-type {\n",
              "        vertical-align: middle;\n",
              "    }\n",
              "\n",
              "    .dataframe tbody tr th {\n",
              "        vertical-align: top;\n",
              "    }\n",
              "\n",
              "    .dataframe thead th {\n",
              "        text-align: right;\n",
              "    }\n",
              "</style>\n",
              "<table border=\"1\" class=\"dataframe\">\n",
              "  <thead>\n",
              "    <tr style=\"text-align: right;\">\n",
              "      <th></th>\n",
              "      <th>Unnamed: 0;DATA INICIAL;DATA FINAL;REGIÃO;ESTADO;PRODUTO;NÚMERO DE POSTOS PESQUISADOS;UNIDADE DE MEDIDA;PREÇO MÉDIO REVENDA;DESVIO PADRÃO REVENDA;PREÇO MÍNIMO REVENDA;PREÇO MÁXIMO REVENDA;MARGEM MÉDIA REVENDA;COEF DE VARIAÇÃO REVENDA;PREÇO MÉDIO DISTRIBUIÇÃO;DESVIO PADRÃO DISTRIBUIÇÃO;PREÇO MÍNIMO DISTRIBUIÇÃO;PREÇO MÁXIMO DISTRIBUIÇÃO;COEF DE VARIAÇÃO DISTRIBUIÇÃO;MÊS;ANO</th>\n",
              "    </tr>\n",
              "  </thead>\n",
              "  <tbody>\n",
              "    <tr>\n",
              "      <th>0</th>\n",
              "      <td>0;2004-05-09;2004-05-15;CENTRO OESTE;DISTRITO ...</td>\n",
              "    </tr>\n",
              "    <tr>\n",
              "      <th>1</th>\n",
              "      <td>1;2004-05-09;2004-05-15;CENTRO OESTE;GOIAS;ETA...</td>\n",
              "    </tr>\n",
              "    <tr>\n",
              "      <th>2</th>\n",
              "      <td>2;2004-05-09;2004-05-15;CENTRO OESTE;MATO GROS...</td>\n",
              "    </tr>\n",
              "    <tr>\n",
              "      <th>3</th>\n",
              "      <td>3;2004-05-09;2004-05-15;CENTRO OESTE;MATO GROS...</td>\n",
              "    </tr>\n",
              "    <tr>\n",
              "      <th>4</th>\n",
              "      <td>4;2004-05-09;2004-05-15;NORDESTE;ALAGOAS;ETANO...</td>\n",
              "    </tr>\n",
              "    <tr>\n",
              "      <th>...</th>\n",
              "      <td>...</td>\n",
              "    </tr>\n",
              "    <tr>\n",
              "      <th>106818</th>\n",
              "      <td>106818;2019-06-23;2019-06-29;NORDESTE;RIO GRAN...</td>\n",
              "    </tr>\n",
              "    <tr>\n",
              "      <th>106819</th>\n",
              "      <td>106819;2019-06-23;2019-06-29;SUL;RIO GRANDE DO...</td>\n",
              "    </tr>\n",
              "    <tr>\n",
              "      <th>106820</th>\n",
              "      <td>106820;2019-06-23;2019-06-29;SUL;SANTA CATARIN...</td>\n",
              "    </tr>\n",
              "    <tr>\n",
              "      <th>106821</th>\n",
              "      <td>106821;2019-06-23;2019-06-29;SUDESTE;SAO PAULO...</td>\n",
              "    </tr>\n",
              "    <tr>\n",
              "      <th>106822</th>\n",
              "      <td>106822;2019-06-23;2019-06-29;NORDESTE;SERGIPE;...</td>\n",
              "    </tr>\n",
              "  </tbody>\n",
              "</table>\n",
              "<p>106823 rows × 1 columns</p>\n",
              "</div>\n",
              "      <button class=\"colab-df-convert\" onclick=\"convertToInteractive('df-12d15663-76ad-498e-b70b-5d80e7df9b6a')\"\n",
              "              title=\"Convert this dataframe to an interactive table.\"\n",
              "              style=\"display:none;\">\n",
              "        \n",
              "  <svg xmlns=\"http://www.w3.org/2000/svg\" height=\"24px\"viewBox=\"0 0 24 24\"\n",
              "       width=\"24px\">\n",
              "    <path d=\"M0 0h24v24H0V0z\" fill=\"none\"/>\n",
              "    <path d=\"M18.56 5.44l.94 2.06.94-2.06 2.06-.94-2.06-.94-.94-2.06-.94 2.06-2.06.94zm-11 1L8.5 8.5l.94-2.06 2.06-.94-2.06-.94L8.5 2.5l-.94 2.06-2.06.94zm10 10l.94 2.06.94-2.06 2.06-.94-2.06-.94-.94-2.06-.94 2.06-2.06.94z\"/><path d=\"M17.41 7.96l-1.37-1.37c-.4-.4-.92-.59-1.43-.59-.52 0-1.04.2-1.43.59L10.3 9.45l-7.72 7.72c-.78.78-.78 2.05 0 2.83L4 21.41c.39.39.9.59 1.41.59.51 0 1.02-.2 1.41-.59l7.78-7.78 2.81-2.81c.8-.78.8-2.07 0-2.86zM5.41 20L4 18.59l7.72-7.72 1.47 1.35L5.41 20z\"/>\n",
              "  </svg>\n",
              "      </button>\n",
              "      \n",
              "  <style>\n",
              "    .colab-df-container {\n",
              "      display:flex;\n",
              "      flex-wrap:wrap;\n",
              "      gap: 12px;\n",
              "    }\n",
              "\n",
              "    .colab-df-convert {\n",
              "      background-color: #E8F0FE;\n",
              "      border: none;\n",
              "      border-radius: 50%;\n",
              "      cursor: pointer;\n",
              "      display: none;\n",
              "      fill: #1967D2;\n",
              "      height: 32px;\n",
              "      padding: 0 0 0 0;\n",
              "      width: 32px;\n",
              "    }\n",
              "\n",
              "    .colab-df-convert:hover {\n",
              "      background-color: #E2EBFA;\n",
              "      box-shadow: 0px 1px 2px rgba(60, 64, 67, 0.3), 0px 1px 3px 1px rgba(60, 64, 67, 0.15);\n",
              "      fill: #174EA6;\n",
              "    }\n",
              "\n",
              "    [theme=dark] .colab-df-convert {\n",
              "      background-color: #3B4455;\n",
              "      fill: #D2E3FC;\n",
              "    }\n",
              "\n",
              "    [theme=dark] .colab-df-convert:hover {\n",
              "      background-color: #434B5C;\n",
              "      box-shadow: 0px 1px 3px 1px rgba(0, 0, 0, 0.15);\n",
              "      filter: drop-shadow(0px 1px 2px rgba(0, 0, 0, 0.3));\n",
              "      fill: #FFFFFF;\n",
              "    }\n",
              "  </style>\n",
              "\n",
              "      <script>\n",
              "        const buttonEl =\n",
              "          document.querySelector('#df-12d15663-76ad-498e-b70b-5d80e7df9b6a button.colab-df-convert');\n",
              "        buttonEl.style.display =\n",
              "          google.colab.kernel.accessAllowed ? 'block' : 'none';\n",
              "\n",
              "        async function convertToInteractive(key) {\n",
              "          const element = document.querySelector('#df-12d15663-76ad-498e-b70b-5d80e7df9b6a');\n",
              "          const dataTable =\n",
              "            await google.colab.kernel.invokeFunction('convertToInteractive',\n",
              "                                                     [key], {});\n",
              "          if (!dataTable) return;\n",
              "\n",
              "          const docLinkHtml = 'Like what you see? Visit the ' +\n",
              "            '<a target=\"_blank\" href=https://colab.research.google.com/notebooks/data_table.ipynb>data table notebook</a>'\n",
              "            + ' to learn more about interactive tables.';\n",
              "          element.innerHTML = '';\n",
              "          dataTable['output_type'] = 'display_data';\n",
              "          await google.colab.output.renderOutput(dataTable, element);\n",
              "          const docLink = document.createElement('div');\n",
              "          docLink.innerHTML = docLinkHtml;\n",
              "          element.appendChild(docLink);\n",
              "        }\n",
              "      </script>\n",
              "    </div>\n",
              "  </div>\n",
              "  "
            ]
          },
          "metadata": {},
          "execution_count": 36
        }
      ]
    },
    {
      "cell_type": "markdown",
      "id": "accurate-pension",
      "metadata": {
        "id": "accurate-pension"
      },
      "source": [
        "O dataset não foi carregado corretamente pois o separador utilizado seu arquivo CSV era ';' e não a ','. <br/>\n",
        "Vamos então carregá-lo corretamente:"
      ]
    },
    {
      "cell_type": "code",
      "execution_count": 40,
      "id": "daily-press",
      "metadata": {
        "id": "daily-press"
      },
      "outputs": [],
      "source": [
        "#carregando dataset  com separador ';'\n",
        "data = pd.read_csv('/content/drive/MyDrive/Colab Notebooks/pandas-essencial-main/datasets/GasPricesinBrazil_2004-2019.csv', sep=';')"
      ]
    },
    {
      "cell_type": "markdown",
      "id": "greater-harvest",
      "metadata": {
        "id": "greater-harvest"
      },
      "source": [
        "### 1.2. Exibindo as primeiras linhas do Dataset\n",
        "A função `.head()` exibe as 5 primeiras linhas do dataset/tabela/Data Frame."
      ]
    },
    {
      "cell_type": "code",
      "execution_count": 41,
      "id": "continued-isaac",
      "metadata": {
        "id": "continued-isaac",
        "outputId": "c171aabb-649e-482d-c210-c4022e3c76de",
        "colab": {
          "base_uri": "https://localhost:8080/",
          "height": 418
        }
      },
      "outputs": [
        {
          "output_type": "execute_result",
          "data": {
            "text/plain": [
              "   Unnamed: 0 DATA INICIAL  DATA FINAL        REGIÃO              ESTADO  \\\n",
              "0           0   2004-05-09  2004-05-15  CENTRO OESTE    DISTRITO FEDERAL   \n",
              "1           1   2004-05-09  2004-05-15  CENTRO OESTE               GOIAS   \n",
              "2           2   2004-05-09  2004-05-15  CENTRO OESTE         MATO GROSSO   \n",
              "3           3   2004-05-09  2004-05-15  CENTRO OESTE  MATO GROSSO DO SUL   \n",
              "4           4   2004-05-09  2004-05-15      NORDESTE             ALAGOAS   \n",
              "\n",
              "            PRODUTO  NÚMERO DE POSTOS PESQUISADOS UNIDADE DE MEDIDA  \\\n",
              "0  ETANOL HIDRATADO                           127              R$/l   \n",
              "1  ETANOL HIDRATADO                           387              R$/l   \n",
              "2  ETANOL HIDRATADO                           192              R$/l   \n",
              "3  ETANOL HIDRATADO                           162              R$/l   \n",
              "4  ETANOL HIDRATADO                           103              R$/l   \n",
              "\n",
              "   PREÇO MÉDIO REVENDA  DESVIO PADRÃO REVENDA  ...  PREÇO MÁXIMO REVENDA  \\\n",
              "0                1.288                  0.016  ...                 1.350   \n",
              "1                1.162                  0.114  ...                 1.449   \n",
              "2                1.389                  0.097  ...                 1.760   \n",
              "3                1.262                  0.070  ...                 1.509   \n",
              "4                1.181                  0.078  ...                 1.400   \n",
              "\n",
              "   MARGEM MÉDIA REVENDA COEF DE VARIAÇÃO REVENDA  PREÇO MÉDIO DISTRIBUIÇÃO  \\\n",
              "0                 0.463                    0.012                     0.825   \n",
              "1                 0.399                    0.098                     0.763   \n",
              "2                 0.419                    0.070                      0.97   \n",
              "3                 0.432                    0.055                      0.83   \n",
              "4                  0.24                    0.066                     0.941   \n",
              "\n",
              "  DESVIO PADRÃO DISTRIBUIÇÃO PREÇO MÍNIMO DISTRIBUIÇÃO  \\\n",
              "0                       0.11                    0.4201   \n",
              "1                      0.088                    0.5013   \n",
              "2                      0.095                    0.5614   \n",
              "3                      0.119                    0.5991   \n",
              "4                      0.077                    0.7441   \n",
              "\n",
              "  PREÇO MÁXIMO DISTRIBUIÇÃO COEF DE VARIAÇÃO DISTRIBUIÇÃO MÊS   ANO  \n",
              "0                    0.9666                         0.133   5  2004  \n",
              "1                      1.05                         0.115   5  2004  \n",
              "2                     1.161                         0.098   5  2004  \n",
              "3                   1.22242                         0.143   5  2004  \n",
              "4                    1.0317                         0.082   5  2004  \n",
              "\n",
              "[5 rows x 21 columns]"
            ],
            "text/html": [
              "\n",
              "  <div id=\"df-f510377a-c9ad-4289-8b15-e4baf14374bf\">\n",
              "    <div class=\"colab-df-container\">\n",
              "      <div>\n",
              "<style scoped>\n",
              "    .dataframe tbody tr th:only-of-type {\n",
              "        vertical-align: middle;\n",
              "    }\n",
              "\n",
              "    .dataframe tbody tr th {\n",
              "        vertical-align: top;\n",
              "    }\n",
              "\n",
              "    .dataframe thead th {\n",
              "        text-align: right;\n",
              "    }\n",
              "</style>\n",
              "<table border=\"1\" class=\"dataframe\">\n",
              "  <thead>\n",
              "    <tr style=\"text-align: right;\">\n",
              "      <th></th>\n",
              "      <th>Unnamed: 0</th>\n",
              "      <th>DATA INICIAL</th>\n",
              "      <th>DATA FINAL</th>\n",
              "      <th>REGIÃO</th>\n",
              "      <th>ESTADO</th>\n",
              "      <th>PRODUTO</th>\n",
              "      <th>NÚMERO DE POSTOS PESQUISADOS</th>\n",
              "      <th>UNIDADE DE MEDIDA</th>\n",
              "      <th>PREÇO MÉDIO REVENDA</th>\n",
              "      <th>DESVIO PADRÃO REVENDA</th>\n",
              "      <th>...</th>\n",
              "      <th>PREÇO MÁXIMO REVENDA</th>\n",
              "      <th>MARGEM MÉDIA REVENDA</th>\n",
              "      <th>COEF DE VARIAÇÃO REVENDA</th>\n",
              "      <th>PREÇO MÉDIO DISTRIBUIÇÃO</th>\n",
              "      <th>DESVIO PADRÃO DISTRIBUIÇÃO</th>\n",
              "      <th>PREÇO MÍNIMO DISTRIBUIÇÃO</th>\n",
              "      <th>PREÇO MÁXIMO DISTRIBUIÇÃO</th>\n",
              "      <th>COEF DE VARIAÇÃO DISTRIBUIÇÃO</th>\n",
              "      <th>MÊS</th>\n",
              "      <th>ANO</th>\n",
              "    </tr>\n",
              "  </thead>\n",
              "  <tbody>\n",
              "    <tr>\n",
              "      <th>0</th>\n",
              "      <td>0</td>\n",
              "      <td>2004-05-09</td>\n",
              "      <td>2004-05-15</td>\n",
              "      <td>CENTRO OESTE</td>\n",
              "      <td>DISTRITO FEDERAL</td>\n",
              "      <td>ETANOL HIDRATADO</td>\n",
              "      <td>127</td>\n",
              "      <td>R$/l</td>\n",
              "      <td>1.288</td>\n",
              "      <td>0.016</td>\n",
              "      <td>...</td>\n",
              "      <td>1.350</td>\n",
              "      <td>0.463</td>\n",
              "      <td>0.012</td>\n",
              "      <td>0.825</td>\n",
              "      <td>0.11</td>\n",
              "      <td>0.4201</td>\n",
              "      <td>0.9666</td>\n",
              "      <td>0.133</td>\n",
              "      <td>5</td>\n",
              "      <td>2004</td>\n",
              "    </tr>\n",
              "    <tr>\n",
              "      <th>1</th>\n",
              "      <td>1</td>\n",
              "      <td>2004-05-09</td>\n",
              "      <td>2004-05-15</td>\n",
              "      <td>CENTRO OESTE</td>\n",
              "      <td>GOIAS</td>\n",
              "      <td>ETANOL HIDRATADO</td>\n",
              "      <td>387</td>\n",
              "      <td>R$/l</td>\n",
              "      <td>1.162</td>\n",
              "      <td>0.114</td>\n",
              "      <td>...</td>\n",
              "      <td>1.449</td>\n",
              "      <td>0.399</td>\n",
              "      <td>0.098</td>\n",
              "      <td>0.763</td>\n",
              "      <td>0.088</td>\n",
              "      <td>0.5013</td>\n",
              "      <td>1.05</td>\n",
              "      <td>0.115</td>\n",
              "      <td>5</td>\n",
              "      <td>2004</td>\n",
              "    </tr>\n",
              "    <tr>\n",
              "      <th>2</th>\n",
              "      <td>2</td>\n",
              "      <td>2004-05-09</td>\n",
              "      <td>2004-05-15</td>\n",
              "      <td>CENTRO OESTE</td>\n",
              "      <td>MATO GROSSO</td>\n",
              "      <td>ETANOL HIDRATADO</td>\n",
              "      <td>192</td>\n",
              "      <td>R$/l</td>\n",
              "      <td>1.389</td>\n",
              "      <td>0.097</td>\n",
              "      <td>...</td>\n",
              "      <td>1.760</td>\n",
              "      <td>0.419</td>\n",
              "      <td>0.070</td>\n",
              "      <td>0.97</td>\n",
              "      <td>0.095</td>\n",
              "      <td>0.5614</td>\n",
              "      <td>1.161</td>\n",
              "      <td>0.098</td>\n",
              "      <td>5</td>\n",
              "      <td>2004</td>\n",
              "    </tr>\n",
              "    <tr>\n",
              "      <th>3</th>\n",
              "      <td>3</td>\n",
              "      <td>2004-05-09</td>\n",
              "      <td>2004-05-15</td>\n",
              "      <td>CENTRO OESTE</td>\n",
              "      <td>MATO GROSSO DO SUL</td>\n",
              "      <td>ETANOL HIDRATADO</td>\n",
              "      <td>162</td>\n",
              "      <td>R$/l</td>\n",
              "      <td>1.262</td>\n",
              "      <td>0.070</td>\n",
              "      <td>...</td>\n",
              "      <td>1.509</td>\n",
              "      <td>0.432</td>\n",
              "      <td>0.055</td>\n",
              "      <td>0.83</td>\n",
              "      <td>0.119</td>\n",
              "      <td>0.5991</td>\n",
              "      <td>1.22242</td>\n",
              "      <td>0.143</td>\n",
              "      <td>5</td>\n",
              "      <td>2004</td>\n",
              "    </tr>\n",
              "    <tr>\n",
              "      <th>4</th>\n",
              "      <td>4</td>\n",
              "      <td>2004-05-09</td>\n",
              "      <td>2004-05-15</td>\n",
              "      <td>NORDESTE</td>\n",
              "      <td>ALAGOAS</td>\n",
              "      <td>ETANOL HIDRATADO</td>\n",
              "      <td>103</td>\n",
              "      <td>R$/l</td>\n",
              "      <td>1.181</td>\n",
              "      <td>0.078</td>\n",
              "      <td>...</td>\n",
              "      <td>1.400</td>\n",
              "      <td>0.24</td>\n",
              "      <td>0.066</td>\n",
              "      <td>0.941</td>\n",
              "      <td>0.077</td>\n",
              "      <td>0.7441</td>\n",
              "      <td>1.0317</td>\n",
              "      <td>0.082</td>\n",
              "      <td>5</td>\n",
              "      <td>2004</td>\n",
              "    </tr>\n",
              "  </tbody>\n",
              "</table>\n",
              "<p>5 rows × 21 columns</p>\n",
              "</div>\n",
              "      <button class=\"colab-df-convert\" onclick=\"convertToInteractive('df-f510377a-c9ad-4289-8b15-e4baf14374bf')\"\n",
              "              title=\"Convert this dataframe to an interactive table.\"\n",
              "              style=\"display:none;\">\n",
              "        \n",
              "  <svg xmlns=\"http://www.w3.org/2000/svg\" height=\"24px\"viewBox=\"0 0 24 24\"\n",
              "       width=\"24px\">\n",
              "    <path d=\"M0 0h24v24H0V0z\" fill=\"none\"/>\n",
              "    <path d=\"M18.56 5.44l.94 2.06.94-2.06 2.06-.94-2.06-.94-.94-2.06-.94 2.06-2.06.94zm-11 1L8.5 8.5l.94-2.06 2.06-.94-2.06-.94L8.5 2.5l-.94 2.06-2.06.94zm10 10l.94 2.06.94-2.06 2.06-.94-2.06-.94-.94-2.06-.94 2.06-2.06.94z\"/><path d=\"M17.41 7.96l-1.37-1.37c-.4-.4-.92-.59-1.43-.59-.52 0-1.04.2-1.43.59L10.3 9.45l-7.72 7.72c-.78.78-.78 2.05 0 2.83L4 21.41c.39.39.9.59 1.41.59.51 0 1.02-.2 1.41-.59l7.78-7.78 2.81-2.81c.8-.78.8-2.07 0-2.86zM5.41 20L4 18.59l7.72-7.72 1.47 1.35L5.41 20z\"/>\n",
              "  </svg>\n",
              "      </button>\n",
              "      \n",
              "  <style>\n",
              "    .colab-df-container {\n",
              "      display:flex;\n",
              "      flex-wrap:wrap;\n",
              "      gap: 12px;\n",
              "    }\n",
              "\n",
              "    .colab-df-convert {\n",
              "      background-color: #E8F0FE;\n",
              "      border: none;\n",
              "      border-radius: 50%;\n",
              "      cursor: pointer;\n",
              "      display: none;\n",
              "      fill: #1967D2;\n",
              "      height: 32px;\n",
              "      padding: 0 0 0 0;\n",
              "      width: 32px;\n",
              "    }\n",
              "\n",
              "    .colab-df-convert:hover {\n",
              "      background-color: #E2EBFA;\n",
              "      box-shadow: 0px 1px 2px rgba(60, 64, 67, 0.3), 0px 1px 3px 1px rgba(60, 64, 67, 0.15);\n",
              "      fill: #174EA6;\n",
              "    }\n",
              "\n",
              "    [theme=dark] .colab-df-convert {\n",
              "      background-color: #3B4455;\n",
              "      fill: #D2E3FC;\n",
              "    }\n",
              "\n",
              "    [theme=dark] .colab-df-convert:hover {\n",
              "      background-color: #434B5C;\n",
              "      box-shadow: 0px 1px 3px 1px rgba(0, 0, 0, 0.15);\n",
              "      filter: drop-shadow(0px 1px 2px rgba(0, 0, 0, 0.3));\n",
              "      fill: #FFFFFF;\n",
              "    }\n",
              "  </style>\n",
              "\n",
              "      <script>\n",
              "        const buttonEl =\n",
              "          document.querySelector('#df-f510377a-c9ad-4289-8b15-e4baf14374bf button.colab-df-convert');\n",
              "        buttonEl.style.display =\n",
              "          google.colab.kernel.accessAllowed ? 'block' : 'none';\n",
              "\n",
              "        async function convertToInteractive(key) {\n",
              "          const element = document.querySelector('#df-f510377a-c9ad-4289-8b15-e4baf14374bf');\n",
              "          const dataTable =\n",
              "            await google.colab.kernel.invokeFunction('convertToInteractive',\n",
              "                                                     [key], {});\n",
              "          if (!dataTable) return;\n",
              "\n",
              "          const docLinkHtml = 'Like what you see? Visit the ' +\n",
              "            '<a target=\"_blank\" href=https://colab.research.google.com/notebooks/data_table.ipynb>data table notebook</a>'\n",
              "            + ' to learn more about interactive tables.';\n",
              "          element.innerHTML = '';\n",
              "          dataTable['output_type'] = 'display_data';\n",
              "          await google.colab.output.renderOutput(dataTable, element);\n",
              "          const docLink = document.createElement('div');\n",
              "          docLink.innerHTML = docLinkHtml;\n",
              "          element.appendChild(docLink);\n",
              "        }\n",
              "      </script>\n",
              "    </div>\n",
              "  </div>\n",
              "  "
            ]
          },
          "metadata": {},
          "execution_count": 41
        }
      ],
      "source": [
        "data.head(5)"
      ]
    },
    {
      "cell_type": "code",
      "execution_count": null,
      "id": "selective-danish",
      "metadata": {
        "id": "selective-danish"
      },
      "outputs": [],
      "source": [
        ""
      ]
    },
    {
      "cell_type": "markdown",
      "id": "naval-relation",
      "metadata": {
        "id": "naval-relation"
      },
      "source": [
        "### 1.3 Informações do Dataset e Elementos Chave"
      ]
    },
    {
      "cell_type": "markdown",
      "id": "southern-collaboration",
      "metadata": {
        "id": "southern-collaboration"
      },
      "source": [
        "### 1.3.1 Informações gerais sobre o Dataset"
      ]
    },
    {
      "cell_type": "code",
      "execution_count": 42,
      "id": "abstract-component",
      "metadata": {
        "id": "abstract-component",
        "outputId": "713631d0-b68b-430b-d2a3-cd740445f7f5",
        "colab": {
          "base_uri": "https://localhost:8080/"
        }
      },
      "outputs": [
        {
          "output_type": "stream",
          "name": "stdout",
          "text": [
            "<class 'pandas.core.frame.DataFrame'>\n",
            "RangeIndex: 106823 entries, 0 to 106822\n",
            "Data columns (total 21 columns):\n",
            " #   Column                         Non-Null Count   Dtype  \n",
            "---  ------                         --------------   -----  \n",
            " 0   Unnamed: 0                     106823 non-null  int64  \n",
            " 1   DATA INICIAL                   106823 non-null  object \n",
            " 2   DATA FINAL                     106823 non-null  object \n",
            " 3   REGIÃO                         106823 non-null  object \n",
            " 4   ESTADO                         106823 non-null  object \n",
            " 5   PRODUTO                        106823 non-null  object \n",
            " 6   NÚMERO DE POSTOS PESQUISADOS   106823 non-null  int64  \n",
            " 7   UNIDADE DE MEDIDA              106823 non-null  object \n",
            " 8   PREÇO MÉDIO REVENDA            106823 non-null  float64\n",
            " 9   DESVIO PADRÃO REVENDA          106823 non-null  float64\n",
            " 10  PREÇO MÍNIMO REVENDA           106823 non-null  float64\n",
            " 11  PREÇO MÁXIMO REVENDA           106823 non-null  float64\n",
            " 12  MARGEM MÉDIA REVENDA           106823 non-null  object \n",
            " 13  COEF DE VARIAÇÃO REVENDA       106823 non-null  float64\n",
            " 14  PREÇO MÉDIO DISTRIBUIÇÃO       106823 non-null  object \n",
            " 15  DESVIO PADRÃO DISTRIBUIÇÃO     106823 non-null  object \n",
            " 16  PREÇO MÍNIMO DISTRIBUIÇÃO      106823 non-null  object \n",
            " 17  PREÇO MÁXIMO DISTRIBUIÇÃO      106823 non-null  object \n",
            " 18  COEF DE VARIAÇÃO DISTRIBUIÇÃO  106823 non-null  object \n",
            " 19  MÊS                            106823 non-null  int64  \n",
            " 20  ANO                            106823 non-null  int64  \n",
            "dtypes: float64(5), int64(4), object(12)\n",
            "memory usage: 17.1+ MB\n"
          ]
        }
      ],
      "source": [
        "data.info()"
      ]
    },
    {
      "cell_type": "markdown",
      "id": "expressed-amber",
      "metadata": {
        "id": "expressed-amber"
      },
      "source": [
        "A primeira coluna da tabela, chamada _'Unnamed: 0'_, parece não significar nada. Na verdade, ela parece ser os **índices** da tabela, que foram salvos como uma _coluna_.<br/>\n",
        "Veremos jajá como **remover tal coluna**.\n",
        "\n",
        "Outro ponto é que, aparentemente, nenhum atributo/coluna possui valores nulos (_null_), uma vez que o número de registros do dataframe e os números de valores _non-null_ é de **106823**. <br/>\n",
        "Mas, veremos que não é bem assim para esse caso."
      ]
    },
    {
      "cell_type": "markdown",
      "id": "nasty-singing",
      "metadata": {
        "id": "nasty-singing"
      },
      "source": [
        "### 1.3.2 Data Frame\n",
        "Todo dataset carregado (dados estruturados) é um `Data Frame`: 'Tabela' bi-dimensional, de tamanho mutável, com dados potencialmente heterogêneos. <br/>"
      ]
    },
    {
      "cell_type": "code",
      "execution_count": 43,
      "id": "micro-progress",
      "metadata": {
        "id": "micro-progress",
        "outputId": "73848063-c084-435a-c720-ccfa02265e11",
        "colab": {
          "base_uri": "https://localhost:8080/"
        }
      },
      "outputs": [
        {
          "output_type": "execute_result",
          "data": {
            "text/plain": [
              "pandas.core.frame.DataFrame"
            ]
          },
          "metadata": {},
          "execution_count": 43
        }
      ],
      "source": [
        "type(data)"
      ]
    },
    {
      "cell_type": "markdown",
      "id": "educated-fourth",
      "metadata": {
        "id": "educated-fourth"
      },
      "source": [
        "Podemos acessar as **dimensões do Data Frame** (número de linhas x número de colunas) utilizando o atributo `.shape` do Data Frame."
      ]
    },
    {
      "cell_type": "code",
      "execution_count": 44,
      "id": "detected-prediction",
      "metadata": {
        "id": "detected-prediction",
        "outputId": "783cbcc2-30c7-44cb-b9ae-80f5d4f75509",
        "colab": {
          "base_uri": "https://localhost:8080/"
        }
      },
      "outputs": [
        {
          "output_type": "execute_result",
          "data": {
            "text/plain": [
              "(106823, 21)"
            ]
          },
          "metadata": {},
          "execution_count": 44
        }
      ],
      "source": [
        "data.shape"
      ]
    },
    {
      "cell_type": "code",
      "execution_count": null,
      "id": "fallen-distance",
      "metadata": {
        "id": "fallen-distance"
      },
      "outputs": [],
      "source": [
        ""
      ]
    },
    {
      "cell_type": "code",
      "execution_count": null,
      "id": "silver-atlantic",
      "metadata": {
        "id": "silver-atlantic"
      },
      "outputs": [],
      "source": [
        ""
      ]
    },
    {
      "cell_type": "markdown",
      "id": "binary-sussex",
      "metadata": {
        "id": "binary-sussex"
      },
      "source": [
        "#### **Criando um DataFrame**\n",
        "\n",
        "Podemos criar um DataFrame a partir de um _dicionário_, onde cada **chave** possui uma **lista de elementos de igual tamanho**.<br/>\n",
        "As **chaves** representam as **colunas** e **cada um dos valores de sua lista** representa o **valor da linha** correspondente para aquela coluna."
      ]
    },
    {
      "cell_type": "code",
      "execution_count": null,
      "id": "beneficial-passport",
      "metadata": {
        "id": "beneficial-passport"
      },
      "outputs": [],
      "source": [
        "alunos_df = pd.DataFrame({\n",
        "    'nome': ['Luke Skywalker', 'Yoda', 'Palpatine'],\n",
        "    'idade': [16, 1000, 70],\n",
        "    'peso': [70, 15, 60],\n",
        "    'eh jedi': [True, True, False]  # o nome das colunas podem ter espaços\n",
        "})"
      ]
    },
    {
      "cell_type": "code",
      "execution_count": null,
      "id": "great-relief",
      "metadata": {
        "id": "great-relief"
      },
      "outputs": [],
      "source": [
        "alunos_df"
      ]
    },
    {
      "cell_type": "markdown",
      "id": "elegant-profit",
      "metadata": {
        "id": "elegant-profit"
      },
      "source": [
        "#### **VEJA MAIS**\n",
        "Criando um Data Frame a partir de um dicionário: https://www.geeksforgeeks.org/how-to-create-dataframe-from-dictionary-in-python-pandas/"
      ]
    },
    {
      "cell_type": "markdown",
      "id": "laden-trance",
      "metadata": {
        "id": "laden-trance"
      },
      "source": [
        "#### **Renomeando as colunas de um DataFrame**\n",
        "**===>** O método `DataFrame.columns` retorna uma \";lista\" com os **nomes de todas as colunas** do data frame."
      ]
    },
    {
      "cell_type": "code",
      "execution_count": null,
      "id": "impaired-spain",
      "metadata": {
        "id": "impaired-spain"
      },
      "outputs": [],
      "source": [
        ""
      ]
    },
    {
      "cell_type": "code",
      "execution_count": null,
      "id": "detected-ceramic",
      "metadata": {
        "id": "detected-ceramic"
      },
      "outputs": [],
      "source": [
        ""
      ]
    },
    {
      "cell_type": "code",
      "execution_count": null,
      "id": "conditional-password",
      "metadata": {
        "id": "conditional-password"
      },
      "outputs": [],
      "source": [
        ""
      ]
    },
    {
      "cell_type": "markdown",
      "id": "geographic-wages",
      "metadata": {
        "id": "geographic-wages"
      },
      "source": [
        "<br/>\n",
        "\n",
        "**===>** Para **renomear colunas** do data frame, utilize o método `DataFrame.rename`, que retorna uma _cópia_ do data frame com as as colunas renomeadas:"
      ]
    },
    {
      "cell_type": "code",
      "execution_count": null,
      "id": "adopted-charlotte",
      "metadata": {
        "id": "adopted-charlotte"
      },
      "outputs": [],
      "source": [
        ""
      ]
    },
    {
      "cell_type": "code",
      "execution_count": null,
      "id": "infinite-christian",
      "metadata": {
        "id": "infinite-christian"
      },
      "outputs": [],
      "source": [
        ""
      ]
    },
    {
      "cell_type": "code",
      "execution_count": null,
      "id": "violent-inspector",
      "metadata": {
        "id": "violent-inspector"
      },
      "outputs": [],
      "source": [
        ""
      ]
    },
    {
      "cell_type": "code",
      "execution_count": null,
      "id": "homeless-sound",
      "metadata": {
        "id": "homeless-sound"
      },
      "outputs": [],
      "source": [
        ""
      ]
    },
    {
      "cell_type": "markdown",
      "id": "personalized-belize",
      "metadata": {
        "id": "personalized-belize"
      },
      "source": [
        "Para renomear o _próprio_ data frame em questão, utilize o parâmetro `inplace=True`:"
      ]
    },
    {
      "cell_type": "code",
      "execution_count": null,
      "id": "nonprofit-missouri",
      "metadata": {
        "id": "nonprofit-missouri"
      },
      "outputs": [],
      "source": [
        ""
      ]
    },
    {
      "cell_type": "code",
      "execution_count": null,
      "id": "nervous-placement",
      "metadata": {
        "id": "nervous-placement"
      },
      "outputs": [],
      "source": [
        ""
      ]
    },
    {
      "cell_type": "markdown",
      "id": "prompt-childhood",
      "metadata": {
        "id": "prompt-childhood"
      },
      "source": [
        "<br/>\n",
        "\n",
        "**===>** Uma outra forma de **renomear todas as listas** de um data frame é passar uma _lista_ com os novos nomes das colunas para o atributo `DataFrame.columns`:"
      ]
    },
    {
      "cell_type": "code",
      "execution_count": null,
      "id": "bright-procurement",
      "metadata": {
        "id": "bright-procurement"
      },
      "outputs": [],
      "source": [
        ""
      ]
    },
    {
      "cell_type": "code",
      "execution_count": null,
      "id": "operational-authority",
      "metadata": {
        "id": "operational-authority"
      },
      "outputs": [],
      "source": [
        ""
      ]
    },
    {
      "cell_type": "code",
      "execution_count": null,
      "id": "authorized-indicator",
      "metadata": {
        "id": "authorized-indicator"
      },
      "outputs": [],
      "source": [
        ""
      ]
    },
    {
      "cell_type": "markdown",
      "id": "lonely-sister",
      "metadata": {
        "id": "lonely-sister"
      },
      "source": [
        "### 1.3.3 Series"
      ]
    },
    {
      "cell_type": "markdown",
      "id": "cheap-dressing",
      "metadata": {
        "id": "cheap-dressing"
      },
      "source": [
        "Array uni-dimensional com os dados e rótulos de um eixo."
      ]
    },
    {
      "cell_type": "code",
      "execution_count": null,
      "id": "bacterial-country",
      "metadata": {
        "id": "bacterial-country"
      },
      "outputs": [],
      "source": [
        ""
      ]
    },
    {
      "cell_type": "code",
      "execution_count": null,
      "id": "incorrect-moment",
      "metadata": {
        "id": "incorrect-moment"
      },
      "outputs": [],
      "source": [
        ""
      ]
    },
    {
      "cell_type": "code",
      "execution_count": null,
      "id": "conscious-fountain",
      "metadata": {
        "id": "conscious-fountain"
      },
      "outputs": [],
      "source": [
        ""
      ]
    },
    {
      "cell_type": "code",
      "execution_count": null,
      "id": "direct-convenience",
      "metadata": {
        "id": "direct-convenience"
      },
      "outputs": [],
      "source": [
        ""
      ]
    },
    {
      "cell_type": "code",
      "execution_count": null,
      "id": "average-final",
      "metadata": {
        "id": "average-final"
      },
      "outputs": [],
      "source": [
        ""
      ]
    },
    {
      "cell_type": "code",
      "execution_count": null,
      "id": "sensitive-clerk",
      "metadata": {
        "id": "sensitive-clerk"
      },
      "outputs": [],
      "source": [
        ""
      ]
    },
    {
      "cell_type": "markdown",
      "id": "ready-brook",
      "metadata": {
        "id": "ready-brook"
      },
      "source": [
        "#### **Criando uma Series**\n",
        "\n",
        "Podemos criar um DataFrame a partir de uma lista de elementos."
      ]
    },
    {
      "cell_type": "code",
      "execution_count": null,
      "id": "acoustic-container",
      "metadata": {
        "id": "acoustic-container"
      },
      "outputs": [],
      "source": [
        ""
      ]
    },
    {
      "cell_type": "markdown",
      "id": "european-ministry",
      "metadata": {
        "id": "european-ministry"
      },
      "source": [
        "Podemos alterar o **nome dos índices** (veremos melhor jajá) e o **nome da Series** (o que ela representa):"
      ]
    },
    {
      "cell_type": "code",
      "execution_count": null,
      "id": "motivated-warning",
      "metadata": {
        "id": "motivated-warning"
      },
      "outputs": [],
      "source": [
        ""
      ]
    },
    {
      "cell_type": "markdown",
      "id": "deadly-prince",
      "metadata": {
        "id": "deadly-prince"
      },
      "source": [
        "#### **VEJA MAIS**\n",
        "https://pandas.pydata.org/pandas-docs/stable/user_guide/dsintro.html"
      ]
    },
    {
      "cell_type": "markdown",
      "id": "insured-turkey",
      "metadata": {
        "id": "insured-turkey"
      },
      "source": [
        "### 1.3.4 Atribuindo Dados"
      ]
    },
    {
      "cell_type": "markdown",
      "id": "smooth-tuesday",
      "metadata": {
        "id": "smooth-tuesday"
      },
      "source": [
        "#### 1.3.4.1 Atribuindo constantes"
      ]
    },
    {
      "cell_type": "code",
      "execution_count": null,
      "id": "electoral-graduate",
      "metadata": {
        "id": "electoral-graduate"
      },
      "outputs": [],
      "source": [
        ""
      ]
    },
    {
      "cell_type": "code",
      "execution_count": null,
      "id": "level-hazard",
      "metadata": {
        "id": "level-hazard"
      },
      "outputs": [],
      "source": [
        ""
      ]
    },
    {
      "cell_type": "code",
      "execution_count": null,
      "id": "connected-lambda",
      "metadata": {
        "id": "connected-lambda"
      },
      "outputs": [],
      "source": [
        ""
      ]
    },
    {
      "cell_type": "code",
      "execution_count": null,
      "id": "danish-thumbnail",
      "metadata": {
        "id": "danish-thumbnail"
      },
      "outputs": [],
      "source": [
        ""
      ]
    },
    {
      "cell_type": "code",
      "execution_count": null,
      "id": "corresponding-cabinet",
      "metadata": {
        "id": "corresponding-cabinet"
      },
      "outputs": [],
      "source": [
        ""
      ]
    },
    {
      "cell_type": "code",
      "execution_count": null,
      "id": "alpha-exposure",
      "metadata": {
        "id": "alpha-exposure"
      },
      "outputs": [],
      "source": [
        ""
      ]
    },
    {
      "cell_type": "markdown",
      "id": "mental-logistics",
      "metadata": {
        "id": "mental-logistics"
      },
      "source": [
        "#### 1.3.4.2 Atribuindo listas ou series"
      ]
    },
    {
      "cell_type": "code",
      "execution_count": null,
      "id": "meaning-alliance",
      "metadata": {
        "id": "meaning-alliance"
      },
      "outputs": [],
      "source": [
        ""
      ]
    },
    {
      "cell_type": "code",
      "execution_count": null,
      "id": "cordless-nursing",
      "metadata": {
        "id": "cordless-nursing"
      },
      "outputs": [],
      "source": [
        ""
      ]
    },
    {
      "cell_type": "code",
      "execution_count": null,
      "id": "trained-particular",
      "metadata": {
        "id": "trained-particular"
      },
      "outputs": [],
      "source": [
        ""
      ]
    },
    {
      "cell_type": "code",
      "execution_count": null,
      "id": "conservative-above",
      "metadata": {
        "id": "conservative-above"
      },
      "outputs": [],
      "source": [
        ""
      ]
    },
    {
      "cell_type": "code",
      "execution_count": null,
      "id": "transparent-service",
      "metadata": {
        "id": "transparent-service"
      },
      "outputs": [],
      "source": [
        ""
      ]
    },
    {
      "cell_type": "code",
      "execution_count": null,
      "id": "musical-corpus",
      "metadata": {
        "id": "musical-corpus"
      },
      "outputs": [],
      "source": [
        ""
      ]
    },
    {
      "cell_type": "markdown",
      "id": "positive-neutral",
      "metadata": {
        "id": "positive-neutral"
      },
      "source": [
        "#### 1.3.4.3 Criando novas colunas\n",
        "Para **criar uma nova coluna** em um data frame, basta atribuirmos uma _lista/Series de valores_ a uma **nova 'chave'** do data frame. <br/>\n",
        "\n",
        "**PS:** A _quantidade de valores_ da lista precisa ser **igual** ao _número de linhas/registros_ do data frame."
      ]
    },
    {
      "cell_type": "code",
      "execution_count": null,
      "id": "dense-background",
      "metadata": {
        "id": "dense-background"
      },
      "outputs": [],
      "source": [
        ""
      ]
    },
    {
      "cell_type": "code",
      "execution_count": null,
      "id": "neither-disposal",
      "metadata": {
        "id": "neither-disposal"
      },
      "outputs": [],
      "source": [
        ""
      ]
    },
    {
      "cell_type": "code",
      "execution_count": null,
      "id": "electrical-extreme",
      "metadata": {
        "id": "electrical-extreme"
      },
      "outputs": [],
      "source": [
        ""
      ]
    },
    {
      "cell_type": "markdown",
      "id": "protected-advertiser",
      "metadata": {
        "id": "protected-advertiser"
      },
      "source": [
        "<br/>\n",
        "\n",
        "Outro exemplo:"
      ]
    },
    {
      "cell_type": "code",
      "execution_count": null,
      "id": "restricted-potential",
      "metadata": {
        "id": "restricted-potential"
      },
      "outputs": [],
      "source": [
        ""
      ]
    },
    {
      "cell_type": "code",
      "execution_count": null,
      "id": "single-batman",
      "metadata": {
        "id": "single-batman"
      },
      "outputs": [],
      "source": [
        ""
      ]
    },
    {
      "cell_type": "markdown",
      "id": "together-collar",
      "metadata": {
        "id": "together-collar"
      },
      "source": [
        "**PS:** Obviamente, a lógica correta em converter o preço dos combustíveis em reais para dólares não é considerar uma taxa de câmbio fixa, uma vez que cada preço foi aferido em um momento diferente."
      ]
    },
    {
      "cell_type": "markdown",
      "id": "artificial-ecuador",
      "metadata": {
        "id": "artificial-ecuador"
      },
      "source": [
        "### 1.3.4 Índices"
      ]
    },
    {
      "cell_type": "markdown",
      "id": "foreign-husband",
      "metadata": {
        "id": "foreign-husband"
      },
      "source": [
        "Todo Data Frame possui **índices**, que não são considerado colunas da tabela. Tais índices são comumente **númericos**, de 0 a num_linhas-1, mas também podem ser **textuais (rótulos/labels)**."
      ]
    },
    {
      "cell_type": "code",
      "execution_count": null,
      "id": "alternative-columbus",
      "metadata": {
        "id": "alternative-columbus"
      },
      "outputs": [],
      "source": [
        ""
      ]
    },
    {
      "cell_type": "code",
      "execution_count": null,
      "id": "statistical-uganda",
      "metadata": {
        "id": "statistical-uganda"
      },
      "outputs": [],
      "source": [
        ""
      ]
    },
    {
      "cell_type": "markdown",
      "id": "absolute-fourth",
      "metadata": {
        "id": "absolute-fourth"
      },
      "source": [
        "Use `list(data.index)` ou `data.index.to_list()` para converter um RangeIndex para uma python list."
      ]
    },
    {
      "cell_type": "markdown",
      "id": "nonprofit-latino",
      "metadata": {
        "id": "nonprofit-latino"
      },
      "source": [
        "#### **Exemplo de Data Frame com Índices Textuais (labels)**"
      ]
    },
    {
      "cell_type": "code",
      "execution_count": null,
      "id": "precious-judges",
      "metadata": {
        "id": "precious-judges"
      },
      "outputs": [],
      "source": [
        "pesquisa_de_satisfacao = pd.DataFrame({\n",
        "    'bom': [50, 21, 100],\n",
        "    'ruim': [131, 2, 30],\n",
        "    'pessimo': [30, 20, 1]\n",
        "}, index=['XboxOne', 'Playstation4', 'Switch'])"
      ]
    },
    {
      "cell_type": "code",
      "execution_count": null,
      "id": "enhanced-prompt",
      "metadata": {
        "id": "enhanced-prompt"
      },
      "outputs": [],
      "source": [
        "pesquisa_de_satisfacao.head()"
      ]
    },
    {
      "cell_type": "markdown",
      "id": "sixth-supplement",
      "metadata": {
        "id": "sixth-supplement"
      },
      "source": [
        "### 1.4 Selecionando uma ou mais amostras (Indexação)"
      ]
    },
    {
      "cell_type": "markdown",
      "id": "buried-headquarters",
      "metadata": {
        "id": "buried-headquarters"
      },
      "source": [
        "#### **==>  Index-based selection (seleção baseada em Índices)**\n",
        "Mostrando linhas específicas de um DataFrame:\n",
        "\n",
        "`iloc`: seleciona elementos do Dataframe, baseado em seu **índice (número)** --> row-first, column-second"
      ]
    },
    {
      "cell_type": "markdown",
      "id": "inclusive-magnet",
      "metadata": {
        "id": "inclusive-magnet"
      },
      "source": [
        "**Selecionando uma amostra/linha:**"
      ]
    },
    {
      "cell_type": "code",
      "execution_count": null,
      "id": "bored-roberts",
      "metadata": {
        "id": "bored-roberts"
      },
      "outputs": [],
      "source": [
        ""
      ]
    },
    {
      "cell_type": "code",
      "execution_count": null,
      "id": "acoustic-exemption",
      "metadata": {
        "id": "acoustic-exemption"
      },
      "outputs": [],
      "source": [
        ""
      ]
    },
    {
      "cell_type": "markdown",
      "id": "regional-spank",
      "metadata": {
        "id": "regional-spank"
      },
      "source": [
        "**Selecionando múltiplias amostras/linhas:**"
      ]
    },
    {
      "cell_type": "code",
      "execution_count": null,
      "id": "framed-julian",
      "metadata": {
        "id": "framed-julian"
      },
      "outputs": [],
      "source": [
        ""
      ]
    },
    {
      "cell_type": "code",
      "execution_count": null,
      "id": "fallen-palace",
      "metadata": {
        "id": "fallen-palace"
      },
      "outputs": [],
      "source": [
        ""
      ]
    },
    {
      "cell_type": "code",
      "execution_count": null,
      "id": "varying-patrol",
      "metadata": {
        "id": "varying-patrol"
      },
      "outputs": [],
      "source": [
        ""
      ]
    },
    {
      "cell_type": "code",
      "execution_count": null,
      "id": "numerical-robinson",
      "metadata": {
        "id": "numerical-robinson"
      },
      "outputs": [],
      "source": [
        ""
      ]
    },
    {
      "cell_type": "code",
      "execution_count": null,
      "id": "olive-plain",
      "metadata": {
        "id": "olive-plain"
      },
      "outputs": [],
      "source": [
        ""
      ]
    },
    {
      "cell_type": "code",
      "execution_count": null,
      "id": "settled-sunglasses",
      "metadata": {
        "id": "settled-sunglasses"
      },
      "outputs": [],
      "source": [
        "# e assim por diante!"
      ]
    },
    {
      "cell_type": "markdown",
      "id": "extended-helping",
      "metadata": {
        "id": "extended-helping"
      },
      "source": [
        "#### **==>  Label-based selection (seleção baseadas em Rótulos)**\n",
        "\n",
        "`loc`: seleciona elementos do Dataframe, baseado em seus **rótulos** --> row-first, column-second"
      ]
    },
    {
      "cell_type": "code",
      "execution_count": null,
      "id": "packed-unemployment",
      "metadata": {
        "id": "packed-unemployment"
      },
      "outputs": [],
      "source": [
        ""
      ]
    },
    {
      "cell_type": "code",
      "execution_count": null,
      "id": "blank-defeat",
      "metadata": {
        "id": "blank-defeat"
      },
      "outputs": [],
      "source": [
        ""
      ]
    },
    {
      "cell_type": "code",
      "execution_count": null,
      "id": "personalized-southeast",
      "metadata": {
        "id": "personalized-southeast"
      },
      "outputs": [],
      "source": [
        ""
      ]
    },
    {
      "cell_type": "code",
      "execution_count": null,
      "id": "dutch-proportion",
      "metadata": {
        "id": "dutch-proportion"
      },
      "outputs": [],
      "source": [
        ""
      ]
    },
    {
      "cell_type": "code",
      "execution_count": null,
      "id": "instrumental-automation",
      "metadata": {
        "id": "instrumental-automation"
      },
      "outputs": [],
      "source": [
        ""
      ]
    },
    {
      "cell_type": "code",
      "execution_count": null,
      "id": "statewide-being",
      "metadata": {
        "id": "statewide-being"
      },
      "outputs": [],
      "source": [
        ""
      ]
    },
    {
      "cell_type": "code",
      "execution_count": null,
      "id": "sublime-berry",
      "metadata": {
        "id": "sublime-berry"
      },
      "outputs": [],
      "source": [
        ""
      ]
    },
    {
      "cell_type": "code",
      "execution_count": null,
      "id": "united-bulgarian",
      "metadata": {
        "id": "united-bulgarian"
      },
      "outputs": [],
      "source": [
        ""
      ]
    },
    {
      "cell_type": "code",
      "execution_count": null,
      "id": "played-oxide",
      "metadata": {
        "id": "played-oxide"
      },
      "outputs": [],
      "source": [
        ""
      ]
    },
    {
      "cell_type": "markdown",
      "id": "brilliant-welding",
      "metadata": {
        "id": "brilliant-welding"
      },
      "source": [
        "### 1.5 Selecionando um ou mais atributos (colunas)"
      ]
    },
    {
      "cell_type": "code",
      "execution_count": null,
      "id": "brilliant-simpson",
      "metadata": {
        "id": "brilliant-simpson"
      },
      "outputs": [],
      "source": [
        ""
      ]
    },
    {
      "cell_type": "code",
      "execution_count": null,
      "id": "prostate-brass",
      "metadata": {
        "id": "prostate-brass"
      },
      "outputs": [],
      "source": [
        ""
      ]
    },
    {
      "cell_type": "code",
      "execution_count": null,
      "id": "patent-desert",
      "metadata": {
        "id": "patent-desert"
      },
      "outputs": [],
      "source": [
        ""
      ]
    },
    {
      "cell_type": "code",
      "execution_count": null,
      "id": "natural-motor",
      "metadata": {
        "id": "natural-motor"
      },
      "outputs": [],
      "source": [
        ""
      ]
    },
    {
      "cell_type": "markdown",
      "id": "italian-berkeley",
      "metadata": {
        "id": "italian-berkeley"
      },
      "source": [
        "Como o rótulo da coluna 'DATA INICIAL' **possui espaço**, não é possível acessá-la como método: `data.DATA INICIAL`"
      ]
    },
    {
      "cell_type": "markdown",
      "id": "heard-objective",
      "metadata": {
        "id": "heard-objective"
      },
      "source": [
        "### 1.6 Removendo um Atributo (Coluna) do Data Frame"
      ]
    },
    {
      "cell_type": "markdown",
      "id": "ancient-european",
      "metadata": {
        "id": "ancient-european"
      },
      "source": [
        "Como vimos anteriormente, o atributo 'Unnamed: 0' parece ser um **ruído** em nosso dataset. Desta maneira, vamos eliminá-lo,"
      ]
    },
    {
      "cell_type": "code",
      "execution_count": null,
      "id": "private-accused",
      "metadata": {
        "id": "private-accused"
      },
      "outputs": [],
      "source": [
        ""
      ]
    },
    {
      "cell_type": "code",
      "execution_count": null,
      "id": "other-server",
      "metadata": {
        "id": "other-server"
      },
      "outputs": [],
      "source": [
        ""
      ]
    },
    {
      "cell_type": "code",
      "execution_count": null,
      "id": "fixed-damage",
      "metadata": {
        "id": "fixed-damage"
      },
      "outputs": [],
      "source": [
        ""
      ]
    },
    {
      "cell_type": "markdown",
      "id": "forbidden-neighborhood",
      "metadata": {
        "id": "forbidden-neighborhood"
      },
      "source": [
        "### 1.7 Salvando um Data Frame"
      ]
    },
    {
      "cell_type": "markdown",
      "id": "sensitive-rocket",
      "metadata": {
        "id": "sensitive-rocket"
      },
      "source": [
        "Para salvarmos um Data Frame para um **arquivo CSV**, basta usarmos o método `.to_csv`. <br/>\n",
        "Por padrão, esse método **salva os índices da tabela como uma coluna no CSV**.<br/>\n",
        "Como no geral tais índices são números de 0 a n-1, não há necessidade para isso (veja que removemos anteriormente a coluna 'Unnamed: 0' que foi justamente esse caso).<br/>\n",
        "Desta forma, utilize o parâmetro: `index=False`.\n",
        "\n",
        "Por padrão, o método utilizará a ',' como separador das colunas. Caso queira alterá-lo, utilize o parâmetro `sep`."
      ]
    },
    {
      "cell_type": "code",
      "execution_count": null,
      "id": "generic-equilibrium",
      "metadata": {
        "id": "generic-equilibrium"
      },
      "outputs": [],
      "source": [
        ""
      ]
    },
    {
      "cell_type": "markdown",
      "id": "backed-arrow",
      "metadata": {
        "id": "backed-arrow"
      },
      "source": [
        "### 1.8 Seleção Condicional: Filtrando amostras"
      ]
    },
    {
      "cell_type": "markdown",
      "id": "aerial-default",
      "metadata": {
        "id": "aerial-default"
      },
      "source": [
        "Durante nossas análise exploratórias, frequentemente filtraremos nossas amostras, a partir de certas **condições**, para fins de análise mais específica. <br/>\n",
        "Existem algumas maneiras de fazermos tal filtragem. Antes disso, vamos carregar nosso dataset pré-processado que salvamos no item anterior."
      ]
    },
    {
      "cell_type": "code",
      "execution_count": null,
      "id": "subject-rubber",
      "metadata": {
        "id": "subject-rubber"
      },
      "outputs": [],
      "source": [
        ""
      ]
    },
    {
      "cell_type": "code",
      "execution_count": null,
      "id": "southeast-undergraduate",
      "metadata": {
        "id": "southeast-undergraduate"
      },
      "outputs": [],
      "source": [
        ""
      ]
    },
    {
      "cell_type": "code",
      "execution_count": null,
      "id": "plain-centre",
      "metadata": {
        "id": "plain-centre"
      },
      "outputs": [],
      "source": [
        ""
      ]
    },
    {
      "cell_type": "markdown",
      "id": "altered-lafayette",
      "metadata": {
        "id": "altered-lafayette"
      },
      "source": [
        "#### **Selecionando apenas os preços dos Postos de São Paulo**"
      ]
    },
    {
      "cell_type": "markdown",
      "id": "express-birmingham",
      "metadata": {
        "id": "express-birmingham"
      },
      "source": [
        "##### **==> Alternativa 1: Seleção Condicional (Comparações diretas)**"
      ]
    },
    {
      "cell_type": "markdown",
      "id": "balanced-executive",
      "metadata": {
        "id": "balanced-executive"
      },
      "source": [
        "O código abaixo retorna uma ***Series ('array') de booleans***, com o número de linhas (amostras) do Data Frame, que informa os registros de preços dos postos do _estado de São Paulo_ (True)."
      ]
    },
    {
      "cell_type": "code",
      "execution_count": null,
      "id": "sufficient-providence",
      "metadata": {
        "id": "sufficient-providence"
      },
      "outputs": [],
      "source": [
        ""
      ]
    },
    {
      "cell_type": "code",
      "execution_count": null,
      "id": "capable-congo",
      "metadata": {
        "id": "capable-congo"
      },
      "outputs": [],
      "source": [
        ""
      ]
    },
    {
      "cell_type": "code",
      "execution_count": null,
      "id": "cognitive-temperature",
      "metadata": {
        "id": "cognitive-temperature"
      },
      "outputs": [],
      "source": [
        ""
      ]
    },
    {
      "cell_type": "code",
      "execution_count": null,
      "id": "neural-crazy",
      "metadata": {
        "id": "neural-crazy"
      },
      "outputs": [],
      "source": [
        ""
      ]
    },
    {
      "cell_type": "code",
      "execution_count": null,
      "id": "ideal-stand",
      "metadata": {
        "id": "ideal-stand"
      },
      "outputs": [],
      "source": [
        ""
      ]
    },
    {
      "cell_type": "code",
      "execution_count": null,
      "id": "overhead-portal",
      "metadata": {
        "id": "overhead-portal"
      },
      "outputs": [],
      "source": [
        ""
      ]
    },
    {
      "cell_type": "markdown",
      "id": "functional-affair",
      "metadata": {
        "id": "functional-affair"
      },
      "source": [
        "Para **filtrarmos** os registros de postos do estado de São Paulo:"
      ]
    },
    {
      "cell_type": "code",
      "execution_count": null,
      "id": "muslim-livestock",
      "metadata": {
        "id": "muslim-livestock"
      },
      "outputs": [],
      "source": [
        ""
      ]
    },
    {
      "cell_type": "markdown",
      "id": "acute-smile",
      "metadata": {
        "id": "acute-smile"
      },
      "source": [
        "O resultado é um Data Frame com _apenas_ os registros desejados após a **filtragem**.<br/>\n",
        "Podemos ainda utilizar o método `loc` para o mesmo fim:"
      ]
    },
    {
      "cell_type": "code",
      "execution_count": null,
      "id": "several-heath",
      "metadata": {
        "id": "several-heath"
      },
      "outputs": [],
      "source": [
        ""
      ]
    },
    {
      "cell_type": "markdown",
      "id": "egyptian-schedule",
      "metadata": {
        "id": "egyptian-schedule"
      },
      "source": [
        "##### **==> Alternativa 2: Utilizando o método `query`**"
      ]
    },
    {
      "cell_type": "markdown",
      "id": "conventional-bathroom",
      "metadata": {
        "id": "conventional-bathroom"
      },
      "source": [
        "`query` filtra linhas de um DataFrame baseado em uma **query (pergunta)**."
      ]
    },
    {
      "cell_type": "code",
      "execution_count": null,
      "id": "contrary-richards",
      "metadata": {
        "id": "contrary-richards"
      },
      "outputs": [],
      "source": [
        ""
      ]
    },
    {
      "cell_type": "markdown",
      "id": "extreme-jones",
      "metadata": {
        "id": "extreme-jones"
      },
      "source": [
        "<br/>\n",
        "\n",
        "Uma boa prática é **salvar o Data Frame filtrado em uma nova variável**. Isso simplifica a complexidade do código para futuras análise feita para os postos de São Paulo."
      ]
    },
    {
      "cell_type": "code",
      "execution_count": null,
      "id": "potential-treasure",
      "metadata": {
        "id": "potential-treasure"
      },
      "outputs": [],
      "source": [
        ""
      ]
    },
    {
      "cell_type": "code",
      "execution_count": null,
      "id": "union-diesel",
      "metadata": {
        "id": "union-diesel"
      },
      "outputs": [],
      "source": [
        ""
      ]
    },
    {
      "cell_type": "code",
      "execution_count": null,
      "id": "british-vision",
      "metadata": {
        "id": "british-vision"
      },
      "outputs": [],
      "source": [
        ""
      ]
    },
    {
      "cell_type": "code",
      "execution_count": null,
      "id": "heard-consent",
      "metadata": {
        "id": "heard-consent"
      },
      "outputs": [],
      "source": [
        ""
      ]
    },
    {
      "cell_type": "markdown",
      "id": "substantial-prevention",
      "metadata": {
        "id": "substantial-prevention"
      },
      "source": [
        "#### **Selecionando registros de postos do Rio de Janeiro com Preços acima de 2 reais**"
      ]
    },
    {
      "cell_type": "code",
      "execution_count": null,
      "id": "occupied-attitude",
      "metadata": {
        "id": "occupied-attitude"
      },
      "outputs": [],
      "source": [
        ""
      ]
    },
    {
      "cell_type": "markdown",
      "id": "executed-colors",
      "metadata": {
        "id": "executed-colors"
      },
      "source": [
        "Note que o resultado da seleção continua sendo uma _Series de booleans_ com o _mesmo número de linhas/amostras do DataFrame_, de modo que cada linha possuirá um valor booleano indicando se o posto é do Rio de Janeiro e o preço aferido do combustível é maior que 2 reais (True) ou não.\n",
        "\n",
        "O símbolo **&** significa **AND** na comparação. Essa nomenclatura do python/pandas é diferente das nomenclaturas tradicionais (&&). <br/>\n",
        "Similarmente:\n",
        "- **|** representa o **OR** (não é ||)\n",
        "- **~** representa o **NOT** (não é !)"
      ]
    },
    {
      "cell_type": "code",
      "execution_count": null,
      "id": "civic-applicant",
      "metadata": {
        "id": "civic-applicant"
      },
      "outputs": [],
      "source": [
        ""
      ]
    },
    {
      "cell_type": "markdown",
      "id": "illegal-boards",
      "metadata": {
        "id": "illegal-boards"
      },
      "source": [
        "Alternativamente, poderíamos usar o método `query` para fazermos tal seleção. Porém, isso não é possível especificamente para esse caso, pois o rótulo da coluna 'PREÇO MÉDIO REVENDA' possui caracteres inválidos para o método (cedilha, acentos) "
      ]
    },
    {
      "cell_type": "code",
      "execution_count": null,
      "id": "automotive-manitoba",
      "metadata": {
        "id": "automotive-manitoba"
      },
      "outputs": [],
      "source": [
        "# Não funciona\n",
        "# data.query('ESTADO==\"RIO DE JANEIRO\" and PREÇO MÉDIO REVENDA > 2')"
      ]
    },
    {
      "cell_type": "markdown",
      "id": "mexican-romania",
      "metadata": {
        "id": "mexican-romania"
      },
      "source": [
        "**Aprofundando mais ainda**\n",
        "\n",
        "A primeira comparação `(data['ESTADO'] == 'RIO DE JANEIRO')` checa, linha a linha (amostra a amostra) do DataFrame, quais são aquelas cujo o estado é RIO DE JANEIRO. Nenhuma averiguação de preços é feita nesse momento. Como resultado, temos uma Series de booleans que responde **apenas** a essa \"pergunta\" feita.\n",
        "\n",
        "A segunda comparação `(data['PREÇO MÉDIO REVENDA'] > 2)` checa, linha a linha (amostra a amostra) do DataFrame, quais são os registro cujo preço do combustível é maior que 2 reais. Note que essa comparação checará os postos de **TODOS os estados**. Como resultado, temos uma Series de booleans que responde **apenas** a essa \"pergunta\" feita.\n",
        "\n",
        "Por fim, as duas \"perguntas\" são unidas pelo AND (&) que retorna a \"pergunta completa\" que fizemos."
      ]
    },
    {
      "cell_type": "markdown",
      "id": "worst-catholic",
      "metadata": {
        "id": "worst-catholic"
      },
      "source": [
        "Alguns podem argumentar que tal abordagem é **ineficiente**, uma vez que, para cada condição (\"pergunta\"), estamos varrendo todas as linhas do DataFrame. <br/>\n",
        "O Pandas _tenta otimizar_ isso ao máximo por de trás dos panos. Mas, de fato, de tivermos um dataset **muito grande** (centenas de milhares de linhas), tal abordagem se tornará _lenta_."
      ]
    },
    {
      "cell_type": "markdown",
      "id": "another-income",
      "metadata": {
        "id": "another-income"
      },
      "source": [
        "Assim, poderíamos fazer filtragem com múltiplos condicionais em partes:"
      ]
    },
    {
      "cell_type": "code",
      "execution_count": null,
      "id": "strong-nicholas",
      "metadata": {
        "id": "strong-nicholas"
      },
      "outputs": [],
      "source": [
        ""
      ]
    },
    {
      "cell_type": "code",
      "execution_count": null,
      "id": "detailed-lyric",
      "metadata": {
        "id": "detailed-lyric"
      },
      "outputs": [],
      "source": [
        ""
      ]
    },
    {
      "cell_type": "markdown",
      "id": "sapphire-gravity",
      "metadata": {
        "id": "sapphire-gravity"
      },
      "source": [
        "#### **Selecionando registros de postos de São Paulo ou do Rio de Janeiro com Gasolina Comum acima de 2 reais**"
      ]
    },
    {
      "cell_type": "markdown",
      "id": "genetic-rwanda",
      "metadata": {
        "id": "genetic-rwanda"
      },
      "source": [
        "Podemos fazer a solução do \"jeito mais lento\", percorrendo o DataFrame inteiro _múltiplas vezes_:"
      ]
    },
    {
      "cell_type": "code",
      "execution_count": null,
      "id": "congressional-recorder",
      "metadata": {
        "id": "congressional-recorder"
      },
      "outputs": [],
      "source": [
        ""
      ]
    },
    {
      "cell_type": "code",
      "execution_count": null,
      "id": "fifth-catalog",
      "metadata": {
        "id": "fifth-catalog"
      },
      "outputs": [],
      "source": [
        ""
      ]
    },
    {
      "cell_type": "code",
      "execution_count": null,
      "id": "built-asthma",
      "metadata": {
        "id": "built-asthma"
      },
      "outputs": [],
      "source": [
        ""
      ]
    },
    {
      "cell_type": "markdown",
      "id": "productive-field",
      "metadata": {
        "id": "productive-field"
      },
      "source": [
        "<br/>\n",
        "\n",
        "Alternativamente:"
      ]
    },
    {
      "cell_type": "code",
      "execution_count": null,
      "id": "australian-brother",
      "metadata": {
        "id": "australian-brother"
      },
      "outputs": [],
      "source": [
        ""
      ]
    },
    {
      "cell_type": "code",
      "execution_count": null,
      "id": "toxic-mercy",
      "metadata": {
        "id": "toxic-mercy"
      },
      "outputs": [],
      "source": [
        ""
      ]
    },
    {
      "cell_type": "code",
      "execution_count": null,
      "id": "secondary-premises",
      "metadata": {
        "id": "secondary-premises"
      },
      "outputs": [],
      "source": [
        ""
      ]
    },
    {
      "cell_type": "markdown",
      "id": "visible-setup",
      "metadata": {
        "id": "visible-setup"
      },
      "source": [
        "#### **Selecionando registros dos anos de 2008, 2010 e 2012**"
      ]
    },
    {
      "cell_type": "code",
      "execution_count": null,
      "id": "critical-mississippi",
      "metadata": {
        "id": "critical-mississippi"
      },
      "outputs": [],
      "source": [
        ""
      ]
    },
    {
      "cell_type": "markdown",
      "id": "operational-border",
      "metadata": {
        "id": "operational-border"
      },
      "source": [
        "**ALTERNATIVA 1**"
      ]
    },
    {
      "cell_type": "code",
      "execution_count": null,
      "id": "oriental-sitting",
      "metadata": {
        "id": "oriental-sitting"
      },
      "outputs": [],
      "source": [
        ""
      ]
    },
    {
      "cell_type": "markdown",
      "id": "nonprofit-martin",
      "metadata": {
        "id": "nonprofit-martin"
      },
      "source": [
        "**ALTERNATIVA 2**"
      ]
    },
    {
      "cell_type": "code",
      "execution_count": null,
      "id": "increased-agent",
      "metadata": {
        "id": "increased-agent"
      },
      "outputs": [],
      "source": [
        ""
      ]
    },
    {
      "cell_type": "markdown",
      "id": "outside-central",
      "metadata": {
        "id": "outside-central"
      },
      "source": [
        "### **Iterando com DataFrames**"
      ]
    },
    {
      "cell_type": "markdown",
      "id": "psychological-hands",
      "metadata": {
        "id": "psychological-hands"
      },
      "source": [
        "#### For-each `DataFrame.iterrows()` (LENTO ==> apenas indicado para iterar pequenos conjunto de dados)"
      ]
    },
    {
      "cell_type": "code",
      "execution_count": null,
      "id": "blank-gnome",
      "metadata": {
        "id": "blank-gnome"
      },
      "outputs": [],
      "source": [
        ""
      ]
    },
    {
      "cell_type": "markdown",
      "id": "treated-summer",
      "metadata": {
        "id": "treated-summer"
      },
      "source": [
        "<h2>2. Preparação dos dados</h2>\n",
        "<hr/>"
      ]
    },
    {
      "cell_type": "markdown",
      "id": "enclosed-nicholas",
      "metadata": {
        "id": "enclosed-nicholas"
      },
      "source": [
        "### 2.1 Removendo amostras com valores vazios (null / nan) no dataset"
      ]
    },
    {
      "cell_type": "code",
      "execution_count": null,
      "id": "aware-shooting",
      "metadata": {
        "id": "aware-shooting"
      },
      "outputs": [],
      "source": [
        ""
      ]
    },
    {
      "cell_type": "markdown",
      "id": "determined-friendly",
      "metadata": {
        "id": "determined-friendly"
      },
      "source": [
        "De um total de 106823 observações, **não há valores null** / nan para nenhum atributo. Mas, veremos que não é bem assim neste caso específico.<br/><br/>"
      ]
    },
    {
      "cell_type": "markdown",
      "id": "graduate-charger",
      "metadata": {
        "id": "graduate-charger"
      },
      "source": [
        "### 2.2 Conversão de tipos de atributos"
      ]
    },
    {
      "cell_type": "markdown",
      "id": "sharp-explanation",
      "metadata": {
        "id": "sharp-explanation"
      },
      "source": [
        "O pandas automaticamente reconhece os tipos de dados de cada coluna. <br/>\n",
        "Porém, existem alguns atributos que estão com seus tipos errados: P. ex., \"PREÇO MÉDIO DISTRIBUIÇÃO\" deveria ser ```float64``` e não ```object```.<br/>\n",
        "Nestes casos, muito provavelmente algumas amostras têm um string ao invés de um número para tais atributos. <br/>\n",
        "\n",
        "Os atributos *\"DATA INICIAL\"* e *\"DATA FINAL\"* deveriam ser do tipo `datetime`.\n",
        "\n",
        "Em outros casos, alguns **atributos categóricos** são ```objects```, mas poderiam ter o tipo ```category```, que é um tipo especial do pandas. <br/>\n",
        "Este tipo é necessário para se utilizar algumas funções específicas do pandas. <br/>\n",
        "**Não** converteremos para este tipo por ora."
      ]
    },
    {
      "cell_type": "code",
      "execution_count": null,
      "id": "downtown-wiring",
      "metadata": {
        "id": "downtown-wiring"
      },
      "outputs": [],
      "source": [
        ""
      ]
    },
    {
      "cell_type": "markdown",
      "id": "blank-monday",
      "metadata": {
        "id": "blank-monday"
      },
      "source": [
        "#### **Datas**\n",
        "Como os atributos de data do datset já estão em um formato de data aceitável (YYYY-MM-DD), não precisamos forçar nenhuma conversão nesse sentido."
      ]
    },
    {
      "cell_type": "code",
      "execution_count": null,
      "id": "fancy-copper",
      "metadata": {
        "id": "fancy-copper"
      },
      "outputs": [],
      "source": [
        ""
      ]
    },
    {
      "cell_type": "code",
      "execution_count": null,
      "id": "massive-draft",
      "metadata": {
        "id": "massive-draft"
      },
      "outputs": [],
      "source": [
        ""
      ]
    },
    {
      "cell_type": "markdown",
      "id": "interim-elimination",
      "metadata": {
        "id": "interim-elimination"
      },
      "source": [
        "#### **Dados Numéricos**"
      ]
    },
    {
      "cell_type": "code",
      "execution_count": null,
      "id": "about-membrane",
      "metadata": {
        "id": "about-membrane"
      },
      "outputs": [],
      "source": [
        ""
      ]
    },
    {
      "cell_type": "code",
      "execution_count": null,
      "id": "expired-thumbnail",
      "metadata": {
        "id": "expired-thumbnail"
      },
      "outputs": [],
      "source": [
        ""
      ]
    },
    {
      "cell_type": "markdown",
      "id": "operating-library",
      "metadata": {
        "id": "operating-library"
      },
      "source": [
        "<br/>\n",
        "\n",
        "Note que temos vários valores ***null*** agora **após a *conversão de tipos***. Vamos checá-los com mais cuidado nos dados originais e preprocessados."
      ]
    },
    {
      "cell_type": "markdown",
      "id": "excess-smith",
      "metadata": {
        "id": "excess-smith"
      },
      "source": [
        "### 2.3 Limpeza de dados"
      ]
    },
    {
      "cell_type": "code",
      "execution_count": null,
      "id": "turkish-borough",
      "metadata": {
        "id": "turkish-borough"
      },
      "outputs": [],
      "source": [
        ""
      ]
    },
    {
      "cell_type": "code",
      "execution_count": null,
      "id": "rapid-ceremony",
      "metadata": {
        "id": "rapid-ceremony"
      },
      "outputs": [],
      "source": [
        ""
      ]
    },
    {
      "cell_type": "code",
      "execution_count": null,
      "id": "residential-wallet",
      "metadata": {
        "id": "residential-wallet"
      },
      "outputs": [],
      "source": [
        ""
      ]
    },
    {
      "cell_type": "markdown",
      "id": "general-found",
      "metadata": {
        "id": "general-found"
      },
      "source": [
        "Várias amostras possuem a _string '-'_ em algumas colunas ao invés de um número de fato. Ou seja, não há aferições destes atributos para estas amostras. <br/>\n",
        "\n",
        "<br/>\n",
        "\n",
        "Poderíamos **preencher os valores NaN com um valor padrão**. Para isso, basta usar o método `.fillna`."
      ]
    },
    {
      "cell_type": "code",
      "execution_count": null,
      "id": "standing-significance",
      "metadata": {
        "id": "standing-significance"
      },
      "outputs": [],
      "source": [
        ""
      ]
    },
    {
      "cell_type": "code",
      "execution_count": null,
      "id": "fourth-smoke",
      "metadata": {
        "id": "fourth-smoke"
      },
      "outputs": [],
      "source": [
        ""
      ]
    },
    {
      "cell_type": "code",
      "execution_count": null,
      "id": "specific-wings",
      "metadata": {
        "id": "specific-wings"
      },
      "outputs": [],
      "source": [
        ""
      ]
    },
    {
      "cell_type": "code",
      "execution_count": null,
      "id": "hispanic-message",
      "metadata": {
        "id": "hispanic-message"
      },
      "outputs": [],
      "source": [
        ""
      ]
    },
    {
      "cell_type": "code",
      "execution_count": null,
      "id": "bulgarian-alabama",
      "metadata": {
        "id": "bulgarian-alabama"
      },
      "outputs": [],
      "source": [
        ""
      ]
    },
    {
      "cell_type": "markdown",
      "id": "altered-compatibility",
      "metadata": {
        "id": "altered-compatibility"
      },
      "source": [
        "<br/>\n",
        "\n",
        "Por mais que a função `fillna` seja interessante e útil em muitos casos, no problema em questão estamos interessados em analisar precisamente, p. ex., o **'PREÇO MÉDIO DISTRIBUIÇÃO'**.<br/>\n",
        "A fim de não termos valores _sintéticos_ gerados pelo `fillna`, que possam atrapalhar nossa análise, iremos **remover (drop) todas as amostras que possuem qualquer valor NaN** para quaisquer atributos/colunas. <br/>\n",
        "\n",
        "Para isso, basta utilizarmos o método `dropna`."
      ]
    },
    {
      "cell_type": "code",
      "execution_count": null,
      "id": "inclusive-shopper",
      "metadata": {
        "id": "inclusive-shopper"
      },
      "outputs": [],
      "source": [
        ""
      ]
    },
    {
      "cell_type": "code",
      "execution_count": null,
      "id": "superb-french",
      "metadata": {
        "id": "superb-french"
      },
      "outputs": [],
      "source": [
        ""
      ]
    },
    {
      "cell_type": "markdown",
      "id": "bearing-peter",
      "metadata": {
        "id": "bearing-peter"
      },
      "source": [
        "Nosso data frame agora, após essa _limpeza_, ficou mais enxuto, contentdo 103392 registros frente aos 106823 registros originais. <br/>\n",
        "\n",
        "Essas são apenas algumas das possíveis _técnicas de limpeza de dados_. Outras estratégias, p. ex., **confiam na detecção de outliers**, que não veremos neste curso."
      ]
    },
    {
      "cell_type": "markdown",
      "id": "bound-laser",
      "metadata": {
        "id": "bound-laser"
      },
      "source": [
        "#### **Salvando o Dataset Preprocessado**"
      ]
    },
    {
      "cell_type": "code",
      "execution_count": null,
      "id": "hungarian-fantasy",
      "metadata": {
        "id": "hungarian-fantasy"
      },
      "outputs": [],
      "source": [
        ""
      ]
    },
    {
      "cell_type": "markdown",
      "id": "stock-cover",
      "metadata": {
        "id": "stock-cover"
      },
      "source": [
        "<h2>3. Estatísticas Descritivas</h2>\n",
        "<hr/>"
      ]
    },
    {
      "cell_type": "markdown",
      "id": "removed-republic",
      "metadata": {
        "id": "removed-republic"
      },
      "source": [
        "O Pandas fornecem algumas funções/métodos ue computam certas estatísticas descritivas."
      ]
    },
    {
      "cell_type": "markdown",
      "id": "contrary-heritage",
      "metadata": {
        "id": "contrary-heritage"
      },
      "source": [
        "`describe`: exibe várias **estatísticas descritivas** para os _atributos_ de um dataframe ou para uma _Series_."
      ]
    },
    {
      "cell_type": "code",
      "execution_count": null,
      "id": "nasty-smart",
      "metadata": {
        "id": "nasty-smart"
      },
      "outputs": [],
      "source": [
        ""
      ]
    },
    {
      "cell_type": "code",
      "execution_count": null,
      "id": "second-approach",
      "metadata": {
        "id": "second-approach"
      },
      "outputs": [],
      "source": [
        ""
      ]
    },
    {
      "cell_type": "markdown",
      "id": "straight-hamburg",
      "metadata": {
        "id": "straight-hamburg"
      },
      "source": [
        "<br/>\n",
        "\n",
        "Como o resultado do `describe` de um _dataframe_ é outro _dataframe_, podemos filtrar apenas algumas colunas."
      ]
    },
    {
      "cell_type": "code",
      "execution_count": null,
      "id": "complete-calvin",
      "metadata": {
        "id": "complete-calvin"
      },
      "outputs": [],
      "source": [
        ""
      ]
    },
    {
      "cell_type": "code",
      "execution_count": null,
      "id": "varying-integrity",
      "metadata": {
        "id": "varying-integrity"
      },
      "outputs": [],
      "source": [
        ""
      ]
    },
    {
      "cell_type": "code",
      "execution_count": null,
      "id": "sensitive-ocean",
      "metadata": {
        "id": "sensitive-ocean"
      },
      "outputs": [],
      "source": [
        ""
      ]
    },
    {
      "cell_type": "markdown",
      "id": "innocent-democrat",
      "metadata": {
        "id": "innocent-democrat"
      },
      "source": [
        "**Acessando apenas algumas estatísticas**"
      ]
    },
    {
      "cell_type": "code",
      "execution_count": null,
      "id": "single-playlist",
      "metadata": {
        "id": "single-playlist"
      },
      "outputs": [],
      "source": [
        ""
      ]
    },
    {
      "cell_type": "code",
      "execution_count": null,
      "id": "cardiovascular-technology",
      "metadata": {
        "id": "cardiovascular-technology"
      },
      "outputs": [],
      "source": [
        ""
      ]
    },
    {
      "cell_type": "markdown",
      "id": "built-congo",
      "metadata": {
        "id": "built-congo"
      },
      "source": [
        "<br/>\n",
        "\n",
        "`mean`, `std`, `min`, etc: cada uma das estatísticas do `describe` podem ser computadas individualmente:"
      ]
    },
    {
      "cell_type": "code",
      "execution_count": null,
      "id": "forty-function",
      "metadata": {
        "id": "forty-function"
      },
      "outputs": [],
      "source": [
        ""
      ]
    },
    {
      "cell_type": "markdown",
      "id": "employed-teach",
      "metadata": {
        "id": "employed-teach"
      },
      "source": [
        "#### Qual é o menor preço mínimo de revenda?"
      ]
    },
    {
      "cell_type": "code",
      "execution_count": null,
      "id": "broken-genius",
      "metadata": {
        "id": "broken-genius"
      },
      "outputs": [],
      "source": [
        ""
      ]
    },
    {
      "cell_type": "markdown",
      "id": "normal-claim",
      "metadata": {
        "id": "normal-claim"
      },
      "source": [
        "#### Qual é a média e desvio padrão dos preços mínimos de revenda?"
      ]
    },
    {
      "cell_type": "code",
      "execution_count": null,
      "id": "successful-release",
      "metadata": {
        "id": "successful-release"
      },
      "outputs": [],
      "source": [
        ""
      ]
    },
    {
      "cell_type": "markdown",
      "id": "qualified-family",
      "metadata": {
        "id": "qualified-family"
      },
      "source": [
        "#### Quais são os estados considerados?"
      ]
    },
    {
      "cell_type": "code",
      "execution_count": null,
      "id": "exciting-assembly",
      "metadata": {
        "id": "exciting-assembly"
      },
      "outputs": [],
      "source": [
        ""
      ]
    },
    {
      "cell_type": "code",
      "execution_count": null,
      "id": "maritime-generic",
      "metadata": {
        "id": "maritime-generic"
      },
      "outputs": [],
      "source": [
        ""
      ]
    },
    {
      "cell_type": "markdown",
      "id": "occasional-mistake",
      "metadata": {
        "id": "occasional-mistake"
      },
      "source": [
        "#### Quantos registros (aferições) cada estado possui?"
      ]
    },
    {
      "cell_type": "markdown",
      "id": "seven-atmosphere",
      "metadata": {
        "id": "seven-atmosphere"
      },
      "source": [
        "`.value_counts()`:  Conta a frequência dos valores de uma dada variável (de preferência, _categórica_)."
      ]
    },
    {
      "cell_type": "code",
      "execution_count": null,
      "id": "adaptive-thumb",
      "metadata": {
        "id": "adaptive-thumb"
      },
      "outputs": [],
      "source": [
        ""
      ]
    },
    {
      "cell_type": "code",
      "execution_count": null,
      "id": "perfect-invasion",
      "metadata": {
        "id": "perfect-invasion"
      },
      "outputs": [],
      "source": [
        ""
      ]
    },
    {
      "cell_type": "markdown",
      "id": "ongoing-packaging",
      "metadata": {
        "id": "ongoing-packaging"
      },
      "source": [
        "<h2>4. Executando funções para cada item de um DataFrame ou Series</h2>\n",
        "<hr/>"
      ]
    },
    {
      "cell_type": "markdown",
      "id": "necessary-start",
      "metadata": {
        "id": "necessary-start"
      },
      "source": [
        "Uma alternativa ao `for-loop` que vimos anteriormente e que é _lento_, é usarmos _funções próprias do pandas_ que **aplicam/mapeiam uma dada função a todos os elementos de um DataFrame ou Series**, retornando novos elementos \"transformados\".\n"
      ]
    },
    {
      "cell_type": "markdown",
      "id": "dutch-yugoslavia",
      "metadata": {
        "id": "dutch-yugoslavia"
      },
      "source": [
        "<img src='https://github.com/mayck001/pandas-essencial/blob/main/imagens/apply_map_applymap.png?raw=1' width=300/>\n",
        "\n",
        "\n",
        "Fonte: https://towardsdatascience.com/introduction-to-pandas-apply-applymap-and-map-5d3e044e93ff"
      ]
    },
    {
      "cell_type": "code",
      "execution_count": null,
      "id": "comparative-mexican",
      "metadata": {
        "id": "comparative-mexican"
      },
      "outputs": [],
      "source": [
        "df = pd.DataFrame({ 'A': [1, 2, 3, 4], \n",
        "                    'B': [10, 20, 30, 40],\n",
        "                    'C': [100, 200, 300, 400]}, \n",
        "                     index=['Linha 1', 'Linha 2', 'Linha 3', 'Linha 4'])"
      ]
    },
    {
      "cell_type": "code",
      "execution_count": null,
      "id": "spiritual-boutique",
      "metadata": {
        "id": "spiritual-boutique"
      },
      "outputs": [],
      "source": [
        "df"
      ]
    },
    {
      "cell_type": "markdown",
      "id": "absent-salmon",
      "metadata": {
        "id": "absent-salmon"
      },
      "source": [
        "`apply()`: usado para aplicar uma função ao longo de um eixo de um DataFrame ou em valores de uma Series."
      ]
    },
    {
      "cell_type": "markdown",
      "id": "authorized-documentation",
      "metadata": {
        "id": "authorized-documentation"
      },
      "source": [
        "<img src='https://github.com/mayck001/pandas-essencial/blob/main/imagens/pandas_axis.jpg?raw=1' width=500/>\n",
        "\n",
        "Fonte: https://www.allthesnippets.com/browse/pandas/df_axis.html"
      ]
    },
    {
      "cell_type": "code",
      "execution_count": null,
      "id": "chronic-behavior",
      "metadata": {
        "id": "chronic-behavior"
      },
      "outputs": [],
      "source": [
        ""
      ]
    },
    {
      "cell_type": "code",
      "execution_count": null,
      "id": "dangerous-adult",
      "metadata": {
        "id": "dangerous-adult"
      },
      "outputs": [],
      "source": [
        ""
      ]
    },
    {
      "cell_type": "markdown",
      "id": "following-tuner",
      "metadata": {
        "id": "following-tuner"
      },
      "source": [
        "<img src='https://github.com/mayck001/pandas-essencial/blob/main/imagens/apply_axis_1.png?raw=1' width=250/>"
      ]
    },
    {
      "cell_type": "code",
      "execution_count": null,
      "id": "economic-conviction",
      "metadata": {
        "id": "economic-conviction"
      },
      "outputs": [],
      "source": [
        ""
      ]
    },
    {
      "cell_type": "markdown",
      "id": "psychological-acrobat",
      "metadata": {
        "id": "psychological-acrobat"
      },
      "source": [
        "<img src='https://github.com/mayck001/pandas-essencial/blob/main/imagens/apply_axis_0.png?raw=1' width=250/>"
      ]
    },
    {
      "cell_type": "markdown",
      "id": "pursuant-metallic",
      "metadata": {
        "id": "pursuant-metallic"
      },
      "source": [
        "##### Usando `lambda` functions"
      ]
    },
    {
      "cell_type": "code",
      "execution_count": null,
      "id": "composed-summit",
      "metadata": {
        "id": "composed-summit"
      },
      "outputs": [],
      "source": [
        ""
      ]
    },
    {
      "cell_type": "code",
      "execution_count": null,
      "id": "modified-timer",
      "metadata": {
        "id": "modified-timer"
      },
      "outputs": [],
      "source": [
        ""
      ]
    },
    {
      "cell_type": "markdown",
      "id": "expensive-thunder",
      "metadata": {
        "id": "expensive-thunder"
      },
      "source": [
        "<img src='https://github.com/mayck001/pandas-essencial/blob/main/imagens/apply_axis_1_mean.png?raw=1' width=350/>"
      ]
    },
    {
      "cell_type": "code",
      "execution_count": null,
      "id": "included-realtor",
      "metadata": {
        "id": "included-realtor"
      },
      "outputs": [],
      "source": [
        ""
      ]
    },
    {
      "cell_type": "markdown",
      "id": "respective-broadcasting",
      "metadata": {
        "id": "respective-broadcasting"
      },
      "source": [
        "<br/>\n",
        "\n",
        "`applymap()`: usado para aplicar uma função para **cada elemento** (_element-wise_) de um DataFrame."
      ]
    },
    {
      "cell_type": "code",
      "execution_count": null,
      "id": "hourly-affairs",
      "metadata": {
        "id": "hourly-affairs"
      },
      "outputs": [],
      "source": [
        "df = pd.DataFrame({ 'A': [1, 2, 3, 4], \n",
        "                    'B': [10, 20, 30, 40],\n",
        "                    'C': [100, 200, 300, 400]}, \n",
        "                     index=['Linha 1', 'Linha 2', 'Linha 3', 'Linha 4'])\n",
        "df"
      ]
    },
    {
      "cell_type": "code",
      "execution_count": null,
      "id": "strong-subcommittee",
      "metadata": {
        "id": "strong-subcommittee"
      },
      "outputs": [],
      "source": [
        ""
      ]
    },
    {
      "cell_type": "markdown",
      "id": "close-female",
      "metadata": {
        "id": "close-female"
      },
      "source": [
        "<br/>\n",
        "\n",
        "`map()`: usado para aplicar uma função para **cada elemento** (_element-wise_) de uma _Series_."
      ]
    },
    {
      "cell_type": "code",
      "execution_count": null,
      "id": "unknown-mining",
      "metadata": {
        "id": "unknown-mining"
      },
      "outputs": [],
      "source": [
        ""
      ]
    },
    {
      "cell_type": "code",
      "execution_count": null,
      "id": "exceptional-financing",
      "metadata": {
        "id": "exceptional-financing"
      },
      "outputs": [],
      "source": [
        ""
      ]
    },
    {
      "cell_type": "code",
      "execution_count": null,
      "id": "velvet-moment",
      "metadata": {
        "id": "velvet-moment"
      },
      "outputs": [],
      "source": [
        ""
      ]
    },
    {
      "cell_type": "code",
      "execution_count": null,
      "id": "detected-tanzania",
      "metadata": {
        "id": "detected-tanzania"
      },
      "outputs": [],
      "source": [
        ""
      ]
    },
    {
      "cell_type": "markdown",
      "id": "increasing-intersection",
      "metadata": {
        "id": "increasing-intersection"
      },
      "source": [
        "<h2>5. Agrupamento</h2>\n",
        "<hr/>"
      ]
    },
    {
      "cell_type": "markdown",
      "id": "played-windsor",
      "metadata": {
        "id": "played-windsor"
      },
      "source": [
        "`groupby`: Usado para criar **grupo de elementos** (e.x., baseado nos valores de um atributo). <br/>\n",
        "**Funções** podem então ser aplicadas para os _elementos de cada grupo_, de modo que os **resultados de cada grupo são combinados**."
      ]
    },
    {
      "cell_type": "code",
      "execution_count": null,
      "id": "expensive-field",
      "metadata": {
        "id": "expensive-field"
      },
      "outputs": [],
      "source": [
        ""
      ]
    },
    {
      "cell_type": "code",
      "execution_count": null,
      "id": "standard-finish",
      "metadata": {
        "id": "standard-finish"
      },
      "outputs": [],
      "source": [
        ""
      ]
    },
    {
      "cell_type": "code",
      "execution_count": null,
      "id": "failing-blackjack",
      "metadata": {
        "id": "failing-blackjack"
      },
      "outputs": [],
      "source": [
        ""
      ]
    },
    {
      "cell_type": "code",
      "execution_count": null,
      "id": "filled-encoding",
      "metadata": {
        "id": "filled-encoding"
      },
      "outputs": [],
      "source": [
        ""
      ]
    },
    {
      "cell_type": "markdown",
      "id": "charged-money",
      "metadata": {
        "id": "charged-money"
      },
      "source": [
        "<br/>\n",
        "\n",
        "Também podemos ter agrupamentos por mais de um atributo."
      ]
    },
    {
      "cell_type": "code",
      "execution_count": null,
      "id": "legitimate-webster",
      "metadata": {
        "id": "legitimate-webster"
      },
      "outputs": [],
      "source": [
        ""
      ]
    },
    {
      "cell_type": "code",
      "execution_count": null,
      "id": "nuclear-quarter",
      "metadata": {
        "id": "nuclear-quarter"
      },
      "outputs": [],
      "source": [
        ""
      ]
    },
    {
      "cell_type": "code",
      "execution_count": null,
      "id": "future-tonight",
      "metadata": {
        "id": "future-tonight"
      },
      "outputs": [],
      "source": [
        ""
      ]
    },
    {
      "cell_type": "code",
      "execution_count": null,
      "id": "guided-sleeping",
      "metadata": {
        "id": "guided-sleeping"
      },
      "outputs": [],
      "source": [
        ""
      ]
    },
    {
      "cell_type": "code",
      "execution_count": null,
      "id": "assumed-detector",
      "metadata": {
        "id": "assumed-detector"
      },
      "outputs": [],
      "source": [
        ""
      ]
    },
    {
      "cell_type": "markdown",
      "id": "sonic-running",
      "metadata": {
        "id": "sonic-running"
      },
      "source": [
        "<br/>\n",
        "\n",
        "`.agg`: **agrega (roda)** uma série de funções para os elementos de um dataframe ou de grupos de um dataframe."
      ]
    },
    {
      "cell_type": "code",
      "execution_count": null,
      "id": "challenging-stanford",
      "metadata": {
        "id": "challenging-stanford"
      },
      "outputs": [],
      "source": [
        "df = pd.DataFrame([[1, 2, 3],\n",
        "                   [4, 5, 6],\n",
        "                   [7, 8, 9],\n",
        "                   [np.nan, np.nan, np.nan]],\n",
        "                  columns=['A', 'B', 'C'])\n",
        "df"
      ]
    },
    {
      "cell_type": "code",
      "execution_count": null,
      "id": "critical-analyst",
      "metadata": {
        "id": "critical-analyst"
      },
      "outputs": [],
      "source": [
        ""
      ]
    },
    {
      "cell_type": "code",
      "execution_count": null,
      "id": "wrong-handy",
      "metadata": {
        "id": "wrong-handy"
      },
      "outputs": [],
      "source": [
        ""
      ]
    },
    {
      "cell_type": "markdown",
      "id": "grave-massage",
      "metadata": {
        "id": "grave-massage"
      },
      "source": [
        "<h2>6. Ordenação</h2>\n",
        "<hr/>"
      ]
    },
    {
      "cell_type": "code",
      "execution_count": null,
      "id": "increasing-delicious",
      "metadata": {
        "id": "increasing-delicious"
      },
      "outputs": [],
      "source": [
        "notas = pd.DataFrame({\n",
        "    'nome': ['João', 'Maria', 'José', 'Alice'],\n",
        "    'idade': [20, 21, 19, 20],\n",
        "    'nota_final': [5.0, 10.0, 6.0, 10.0]\n",
        "})\n",
        "notas"
      ]
    },
    {
      "cell_type": "markdown",
      "id": "harmful-director",
      "metadata": {
        "id": "harmful-director"
      },
      "source": [
        "`.sort_values()`: ordena valores ao longo de um eixo."
      ]
    },
    {
      "cell_type": "code",
      "execution_count": null,
      "id": "whole-allowance",
      "metadata": {
        "id": "whole-allowance"
      },
      "outputs": [],
      "source": [
        ""
      ]
    },
    {
      "cell_type": "markdown",
      "id": "american-blues",
      "metadata": {
        "id": "american-blues"
      },
      "source": [
        "Por padrão, o método retorna uma cópia dos dados ordenados em **ordem crescente (ascendente)**. Podemos alterar isso pelo argumento `ascending`."
      ]
    },
    {
      "cell_type": "code",
      "execution_count": null,
      "id": "comparative-burke",
      "metadata": {
        "id": "comparative-burke"
      },
      "outputs": [],
      "source": [
        ""
      ]
    },
    {
      "cell_type": "markdown",
      "id": "previous-polls",
      "metadata": {
        "id": "previous-polls"
      },
      "source": [
        "<br/>\n",
        "\n",
        "Podemos ordenar a partir de **mais de uma coluna**:"
      ]
    },
    {
      "cell_type": "code",
      "execution_count": null,
      "id": "derived-saying",
      "metadata": {
        "id": "derived-saying"
      },
      "outputs": [],
      "source": [
        ""
      ]
    },
    {
      "cell_type": "markdown",
      "id": "experienced-husband",
      "metadata": {
        "id": "experienced-husband"
      },
      "source": [
        "Ordena os registros, primeiramente, pela coluna 'nota_final' em **ordem descrente**. <br/>\n",
        "Então, reordena os registros _\"empatados\"_, ou seja, com a **mesma nota final**, em _ordem alfabética_ (ordem crescente)."
      ]
    },
    {
      "cell_type": "markdown",
      "id": "original-december",
      "metadata": {
        "id": "original-december"
      },
      "source": [
        "<br/>\n",
        "\n",
        "Note que o dataframe original **não foi alterado** após a ordenação."
      ]
    },
    {
      "cell_type": "code",
      "execution_count": null,
      "id": "numeric-vietnam",
      "metadata": {
        "id": "numeric-vietnam"
      },
      "outputs": [],
      "source": [
        ""
      ]
    },
    {
      "cell_type": "markdown",
      "id": "focal-compact",
      "metadata": {
        "id": "focal-compact"
      },
      "source": [
        "Para alterá-lo, use o argumento `inplace=True`:"
      ]
    },
    {
      "cell_type": "code",
      "execution_count": null,
      "id": "advanced-aberdeen",
      "metadata": {
        "id": "advanced-aberdeen"
      },
      "outputs": [],
      "source": [
        ""
      ]
    },
    {
      "cell_type": "code",
      "execution_count": null,
      "id": "announced-genetics",
      "metadata": {
        "id": "announced-genetics"
      },
      "outputs": [],
      "source": [
        ""
      ]
    },
    {
      "cell_type": "markdown",
      "id": "functional-clark",
      "metadata": {
        "id": "functional-clark"
      },
      "source": [
        "<h2>7. Exercícios</h2>\n",
        "<hr/>"
      ]
    },
    {
      "cell_type": "markdown",
      "id": "democratic-commonwealth",
      "metadata": {
        "id": "democratic-commonwealth"
      },
      "source": [
        "Vamos aplicar os conceitos que vimos em alguns exercícios. <br/>\n",
        "Para isso, utilizaremos o dataset de _preços de combustíveis no Brasil_.\n",
        "\n",
        "Como há apenas medições de janeiro a junho para o ano de 2019, resolvemos **remover os dados** deste ano da análise."
      ]
    },
    {
      "cell_type": "code",
      "execution_count": null,
      "id": "cardiovascular-daily",
      "metadata": {
        "id": "cardiovascular-daily"
      },
      "outputs": [],
      "source": [
        ""
      ]
    },
    {
      "cell_type": "markdown",
      "id": "mexican-guinea",
      "metadata": {
        "id": "mexican-guinea"
      },
      "source": [
        "Note que temos um novo dataframe com 99739 linhas, mas com índices fora desse intervalo. <br/>\n",
        "Acontece que os registros mantiveram seus índices originais após a query. <br/>\n",
        "\n",
        "Para resetar os índices de _0 a num_linhas-1_, basta usarmos o método `.reset_index()`. "
      ]
    },
    {
      "cell_type": "code",
      "execution_count": null,
      "id": "combined-release",
      "metadata": {
        "id": "combined-release"
      },
      "outputs": [],
      "source": [
        ""
      ]
    },
    {
      "cell_type": "markdown",
      "id": "transparent-cannon",
      "metadata": {
        "id": "transparent-cannon"
      },
      "source": [
        "Os índices agora foram **resetados**. Porém, os índices antigos se transformaram em _uma nova coluna_ chamada 'index'. <br/>\n",
        "Para removê-la durante o _reset_, basta passarmos o argumento `drop=True`."
      ]
    },
    {
      "cell_type": "code",
      "execution_count": null,
      "id": "registered-walnut",
      "metadata": {
        "id": "registered-walnut"
      },
      "outputs": [],
      "source": [
        ""
      ]
    },
    {
      "cell_type": "code",
      "execution_count": null,
      "id": "jewish-cancer",
      "metadata": {
        "id": "jewish-cancer"
      },
      "outputs": [],
      "source": [
        ""
      ]
    },
    {
      "cell_type": "markdown",
      "id": "worth-running",
      "metadata": {
        "id": "worth-running"
      },
      "source": [
        "### 7.1 Qual a proporção de postos pesquisados para cada combustível em cada região"
      ]
    },
    {
      "cell_type": "code",
      "execution_count": null,
      "id": "corrected-major",
      "metadata": {
        "id": "corrected-major"
      },
      "outputs": [],
      "source": [
        ""
      ]
    },
    {
      "cell_type": "code",
      "execution_count": null,
      "id": "returning-premium",
      "metadata": {
        "id": "returning-premium"
      },
      "outputs": [],
      "source": [
        ""
      ]
    },
    {
      "cell_type": "markdown",
      "id": "improving-corporation",
      "metadata": {
        "id": "improving-corporation"
      },
      "source": [
        "### 7.2 Como os preços da Gasolina Comum em São Paulo variaram em 2018?"
      ]
    },
    {
      "cell_type": "code",
      "execution_count": null,
      "id": "damaged-horse",
      "metadata": {
        "id": "damaged-horse"
      },
      "outputs": [],
      "source": [
        ""
      ]
    },
    {
      "cell_type": "code",
      "execution_count": null,
      "id": "complicated-louis",
      "metadata": {
        "id": "complicated-louis"
      },
      "outputs": [],
      "source": [
        ""
      ]
    },
    {
      "cell_type": "markdown",
      "id": "ecological-pavilion",
      "metadata": {
        "id": "ecological-pavilion"
      },
      "source": [
        "#### **Estatísticas Descritivas**"
      ]
    },
    {
      "cell_type": "code",
      "execution_count": null,
      "id": "scientific-acrylic",
      "metadata": {
        "id": "scientific-acrylic"
      },
      "outputs": [],
      "source": [
        ""
      ]
    },
    {
      "cell_type": "code",
      "execution_count": null,
      "id": "touched-irrigation",
      "metadata": {
        "id": "touched-irrigation"
      },
      "outputs": [],
      "source": [
        ""
      ]
    },
    {
      "cell_type": "markdown",
      "id": "freelance-python",
      "metadata": {
        "id": "freelance-python"
      },
      "source": [
        "### 7.3 Como os preços da Gasolina Comum e do Etanol em São Paulo variaram em 2018?"
      ]
    },
    {
      "cell_type": "code",
      "execution_count": null,
      "id": "diagnostic-replacement",
      "metadata": {
        "id": "diagnostic-replacement"
      },
      "outputs": [],
      "source": [
        ""
      ]
    },
    {
      "cell_type": "code",
      "execution_count": null,
      "id": "necessary-absolute",
      "metadata": {
        "id": "necessary-absolute"
      },
      "outputs": [],
      "source": [
        ""
      ]
    },
    {
      "cell_type": "code",
      "execution_count": null,
      "id": "selected-confidentiality",
      "metadata": {
        "id": "selected-confidentiality"
      },
      "outputs": [],
      "source": [
        ""
      ]
    },
    {
      "cell_type": "code",
      "execution_count": null,
      "id": "minute-september",
      "metadata": {
        "id": "minute-september"
      },
      "outputs": [],
      "source": [
        ""
      ]
    },
    {
      "cell_type": "code",
      "execution_count": null,
      "id": "phantom-environment",
      "metadata": {
        "id": "phantom-environment"
      },
      "outputs": [],
      "source": [
        ""
      ]
    },
    {
      "cell_type": "markdown",
      "id": "phantom-focus",
      "metadata": {
        "id": "phantom-focus"
      },
      "source": [
        "<h2>8. Assuntos para continuar os estudos</h2>\n",
        "<hr/>\n",
        "\n",
        "- join\n",
        "- concat\n",
        "- plot\n",
        "- data cleaning"
      ]
    }
  ],
  "metadata": {
    "kernelspec": {
      "display_name": "Python 3",
      "language": "python",
      "name": "python3"
    },
    "language_info": {
      "codemirror_mode": {
        "name": "ipython",
        "version": 3
      },
      "file_extension": ".py",
      "mimetype": "text/x-python",
      "name": "python",
      "nbconvert_exporter": "python",
      "pygments_lexer": "ipython3",
      "version": "3.8.5"
    },
    "colab": {
      "name": "manipulacao_de_dados_codigo_base.ipynb",
      "provenance": [],
      "include_colab_link": true
    }
  },
  "nbformat": 4,
  "nbformat_minor": 5
}